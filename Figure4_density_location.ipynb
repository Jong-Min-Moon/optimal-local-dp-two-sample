{
 "cells": [
  {
   "cell_type": "markdown",
   "metadata": {},
   "source": [
    "### import packages"
   ]
  },
  {
   "cell_type": "code",
   "execution_count": 1,
   "metadata": {},
   "outputs": [],
   "source": [
    "import torch\n",
    "\n",
    "from privateAB.client import client\n",
    "from privateAB.server import server_multinomial_bitflip, server_multinomial_genrr, server_ell2\n",
    "from privateAB.data_generator  import data_generator\n",
    "import time\n",
    "import numpy as np\n",
    "from datetime import datetime"
   ]
  },
  {
   "cell_type": "markdown",
   "metadata": {},
   "source": [
    "### Change settings"
   ]
  },
  {
   "cell_type": "code",
   "execution_count": 2,
   "metadata": {},
   "outputs": [
    {
     "name": "stdout",
     "output_type": "stream",
     "text": [
      "12\n"
     ]
    }
   ],
   "source": [
    "d = 3                       # data dimension; choose from {3,4,5}\n",
    "n_bin = 4                   # fixed at 4 in the paper\n",
    "privacy_level = 2          # privacy level \\alpha: choose from {0.5, 1, 2}\n",
    "sample_size   = 4000        \n",
    "n_permutation = 999         # fixed at 999 in the paper\n",
    "priv_mech  = 'genrr' #choose among 'bitflip', 'genrr', 'lapu', 'disclapu'\n",
    "statistic  = 'elltwo' #choose among 'chi', 'projchi', 'elltwo'. chi requires 1-dimensional multinomial data.\n",
    "n_test        = 12        \n",
    "test_start    = 1\n",
    "significance_level = 0.05\n",
    "device = torch.device('cuda' if torch.cuda.is_available() else 'cpu')\n",
    "print(torch.get_num_threads())\n"
   ]
  },
  {
   "cell_type": "markdown",
   "metadata": {},
   "source": [
    "### Create data generator, client, and server instances"
   ]
  },
  {
   "cell_type": "markdown",
   "metadata": {},
   "source": [
    "### Import packages"
   ]
  },
  {
   "cell_type": "code",
   "execution_count": 3,
   "metadata": {},
   "outputs": [],
   "source": [
    "data_gen = data_generator() #create data generator\n",
    "LDPclient = client() #create the client, which privatizes the data\n",
    "\n",
    "method_name = priv_mech + statistic\n",
    "\n",
    "server_private_vec = {\n",
    "    \"elltwo\":server_ell2(privacy_level),\n",
    "    \"chi\":server_multinomial_genrr(privacy_level),\n",
    "    \"projchi\":server_multinomial_bitflip(privacy_level)\n",
    "    }\n",
    "server_private = server_private_vec[statistic] #create the server, which conducts the test"
   ]
  },
  {
   "cell_type": "markdown",
   "metadata": {},
   "source": [
    "### Run the simulations"
   ]
  },
  {
   "cell_type": "code",
   "execution_count": 4,
   "metadata": {},
   "outputs": [
    {
     "name": "stdout",
     "output_type": "stream",
     "text": [
      "genrrelltwo, alpha=2, sample size=4000\n",
      "cpu\n",
      "#########################################\n",
      "pval: [0.001] -- 1th test, time elapsed 3.296107530593872 -- emperical power so far (from test_start): 1.0\n",
      "pval: [0.001] -- 2th test, time elapsed 3.0632879734039307 -- emperical power so far (from test_start): 1.0\n",
      "pval: [0.002] -- 3th test, time elapsed 2.9508297443389893 -- emperical power so far (from test_start): 1.0\n",
      "pval: [0.001] -- 4th test, time elapsed 3.00393009185791 -- emperical power so far (from test_start): 1.0\n",
      "pval: [0.001] -- 5th test, time elapsed 2.7604663372039795 -- emperical power so far (from test_start): 1.0\n",
      "pval: [0.001] -- 6th test, time elapsed 2.9073243141174316 -- emperical power so far (from test_start): 1.0\n",
      "pval: [0.001] -- 7th test, time elapsed 2.9607486724853516 -- emperical power so far (from test_start): 1.0\n",
      "pval: [0.001] -- 8th test, time elapsed 3.5466079711914062 -- emperical power so far (from test_start): 1.0\n",
      "pval: [0.001] -- 9th test, time elapsed 2.727109432220459 -- emperical power so far (from test_start): 1.0\n",
      "pval: [0.001] -- 10th test, time elapsed 2.862359046936035 -- emperical power so far (from test_start): 1.0\n",
      "pval: [0.001] -- 11th test, time elapsed 3.198076009750366 -- emperical power so far (from test_start): 1.0\n",
      "pval: [0.001] -- 12th test, time elapsed 2.7602317333221436 -- emperical power so far (from test_start): 1.0\n"
     ]
    }
   ],
   "source": [
    "print(f\"{method_name}, alpha={privacy_level}, sample size={sample_size}\")\n",
    "print(device)\n",
    "print(\"#########################################\")\n",
    "p_value_vec = np.zeros([n_test, 1])\n",
    "statistic_vec = np.zeros([n_test, 1])\n",
    "t = time.time()\n",
    "\n",
    "for i in range(n_test):\n",
    "    test_num = i + test_start\n",
    "    t_start_i = time.time()\n",
    "    torch.manual_seed(test_num)\n",
    "    copula_mean_1 = -0.5 * torch.ones(d).to(device)\n",
    "    copula_mean_2 =  -copula_mean_1\n",
    "\n",
    "\n",
    "    copula_sigma = (0.5 * torch.ones(d,d) + 0.5 * torch.eye(d)).to(device)\n",
    "    data_y_priv = LDPclient.release_private_conti(\n",
    "            priv_mech,\n",
    "            data_gen.generate_copula_gaussian_data(sample_size, copula_mean_1, copula_sigma),\n",
    "            privacy_level,\n",
    "            n_bin,\n",
    "            device\n",
    "        )\n",
    "\n",
    "    data_z_priv = LDPclient.release_private_conti(\n",
    "            priv_mech,\n",
    "            data_gen.generate_copula_gaussian_data(sample_size, copula_mean_2, copula_sigma),\n",
    "            privacy_level,\n",
    "            n_bin,\n",
    "            device\n",
    "        )\n",
    "    server_private.load_private_data_multinomial(\n",
    "        data_y_priv,\n",
    "        data_z_priv,\n",
    "        LDPclient.alphabet_size_binned,\n",
    "        device,\n",
    "        device\n",
    "    )\n",
    "    time_now = datetime.utcnow().strftime('%Y-%m-%d %H:%M:%S')\n",
    "\n",
    "    p_value_vec[i], statistic_vec[i] = server_private.release_p_value_permutation(n_permutation)\n",
    "    t_end_i = time.time() - t_start_i\n",
    "    print(f\"pval: {p_value_vec[i]} -- {test_num}th test, time elapsed {t_end_i} -- emperical power so far (from test_start): {(p_value_vec[0:(i+1)] < significance_level).mean()}\")\n"
   ]
  }
 ],
 "metadata": {
  "kernelspec": {
   "display_name": "LDPUtsEnvK40_windows",
   "language": "python",
   "name": "python3"
  },
  "language_info": {
   "codemirror_mode": {
    "name": "ipython",
    "version": 3
   },
   "file_extension": ".py",
   "mimetype": "text/x-python",
   "name": "python",
   "nbconvert_exporter": "python",
   "pygments_lexer": "ipython3",
   "version": "3.7.16"
  }
 },
 "nbformat": 4,
 "nbformat_minor": 2
}
