{
 "cells": [
  {
   "cell_type": "markdown",
   "metadata": {},
   "source": [
    "### Import packages\n"
   ]
  },
  {
   "cell_type": "code",
   "execution_count": 1,
   "metadata": {},
   "outputs": [],
   "source": [
    "from client import client\n",
    "import torch\n",
    "from server import server_multinomial_bitflip, server_multinomial_genrr, server_ell2\n",
    "from data_generator import create_power_law, data_generator\n",
    "import time\n",
    "import numpy as np\n",
    "from datetime import datetime"
   ]
  },
  {
   "cell_type": "markdown",
   "metadata": {},
   "source": [
    "### Change settings #########################\n"
   ]
  },
  {
   "cell_type": "code",
   "execution_count": 6,
   "metadata": {},
   "outputs": [],
   "source": [
    "sample_size   = 8400   \n",
    "test_start    = 1\n",
    "n_test = 20\n",
    "privacy_level = 1           # privacy level \\alpha: choose from {1, 2, 4}\n",
    "statistic  = 'projchi' #choose between 'projchi' and 'elltwo'\n",
    "device = torch.device('cuda' if torch.cuda.is_available() else 'cpu')"
   ]
  },
  {
   "cell_type": "markdown",
   "metadata": {},
   "source": [
    "### Fixed settings ##################################"
   ]
  },
  {
   "cell_type": "code",
   "execution_count": 7,
   "metadata": {},
   "outputs": [
    {
     "name": "stdout",
     "output_type": "stream",
     "text": [
      "12\n"
     ]
    }
   ],
   "source": [
    "param_dist        = 2.45 # power law parameter of distribution Y; fixed at 2.45 in the paper\n",
    "power_2           = 2.3  # power law parameter of distribution Z; fixed at 2.3 in the paper\n",
    "d = 40                      # number of categories; fixed at 40 in the paper\n",
    "n_permutation = 999         # fixed at 999 in the paper\n",
    "priv_mech  = 'bitflip' #fixed in the paper\n",
    "significance_level = 0.05\n",
    "device = torch.device('cuda' if torch.cuda.is_available() else 'cpu')\n",
    "print(torch.get_num_threads())"
   ]
  },
  {
   "cell_type": "markdown",
   "metadata": {},
   "source": [
    "### Create data generator, client, and server instances"
   ]
  },
  {
   "cell_type": "code",
   "execution_count": 8,
   "metadata": {},
   "outputs": [],
   "source": [
    "data_gen = data_generator()\n",
    "LDPclient = client()\n",
    "significance_level = 0.05\n",
    "method_name = priv_mech + statistic\n",
    "\n",
    "server_private_vec = {\n",
    "    \"elltwo\":server_ell2(privacy_level),\n",
    "    \"chi\":server_multinomial_genrr(privacy_level),\n",
    "    \"projchi\":server_multinomial_bitflip(privacy_level)\n",
    "    }\n",
    "server_private = server_private_vec[statistic]"
   ]
  },
  {
   "cell_type": "markdown",
   "metadata": {},
   "source": [
    "### Run the simulations"
   ]
  },
  {
   "cell_type": "code",
   "execution_count": 9,
   "metadata": {},
   "outputs": [
    {
     "name": "stdout",
     "output_type": "stream",
     "text": [
      "bitflipprojchi, alpha=1, sample size=8400\n",
      "#########################################\n",
      "pval: [0.382] -- 1th test, time elapsed 3.6101150512695312 -- emperical power so far (from test_start): 0.0\n",
      "pval: [0.15899999] -- 2th test, time elapsed 3.3968324661254883 -- emperical power so far (from test_start): 0.0\n",
      "pval: [0.80800003] -- 3th test, time elapsed 3.617156744003296 -- emperical power so far (from test_start): 0.0\n",
      "pval: [0.99400002] -- 4th test, time elapsed 3.56168532371521 -- emperical power so far (from test_start): 0.0\n",
      "pval: [0.87300003] -- 5th test, time elapsed 3.585373640060425 -- emperical power so far (from test_start): 0.0\n",
      "pval: [0.249] -- 6th test, time elapsed 3.5770726203918457 -- emperical power so far (from test_start): 0.0\n",
      "pval: [0.32699999] -- 7th test, time elapsed 3.800816059112549 -- emperical power so far (from test_start): 0.0\n",
      "pval: [0.384] -- 8th test, time elapsed 3.607257843017578 -- emperical power so far (from test_start): 0.0\n",
      "pval: [0.75199997] -- 9th test, time elapsed 3.5651094913482666 -- emperical power so far (from test_start): 0.0\n",
      "pval: [0.54400003] -- 10th test, time elapsed 3.7245452404022217 -- emperical power so far (from test_start): 0.0\n",
      "pval: [0.53799999] -- 11th test, time elapsed 3.7706010341644287 -- emperical power so far (from test_start): 0.0\n",
      "pval: [0.61699998] -- 12th test, time elapsed 3.750591278076172 -- emperical power so far (from test_start): 0.0\n",
      "pval: [0.426] -- 13th test, time elapsed 4.106491327285767 -- emperical power so far (from test_start): 0.0\n",
      "pval: [0.74000001] -- 14th test, time elapsed 5.1214377880096436 -- emperical power so far (from test_start): 0.0\n",
      "pval: [0.56800002] -- 15th test, time elapsed 5.242117166519165 -- emperical power so far (from test_start): 0.0\n",
      "pval: [0.639] -- 16th test, time elapsed 5.100399494171143 -- emperical power so far (from test_start): 0.0\n",
      "pval: [0.12800001] -- 17th test, time elapsed 5.342483043670654 -- emperical power so far (from test_start): 0.0\n",
      "pval: [0.44999999] -- 18th test, time elapsed 5.292800188064575 -- emperical power so far (from test_start): 0.0\n",
      "pval: [0.35699999] -- 19th test, time elapsed 5.3779778480529785 -- emperical power so far (from test_start): 0.0\n",
      "pval: [0.57999998] -- 20th test, time elapsed 5.309183359146118 -- emperical power so far (from test_start): 0.0\n"
     ]
    }
   ],
   "source": [
    "print(f\"{method_name}, alpha={privacy_level}, sample size={sample_size}\")\n",
    "print(\"#########################################\")\n",
    "p_value_vec = np.zeros([n_test, 1])\n",
    "statistic_vec = np.zeros([n_test, 1])\n",
    "t = time.time()\n",
    "\n",
    "for i in range(n_test):\n",
    "    test_num = i + test_start\n",
    "    t_start_i = time.time()\n",
    "    torch.manual_seed(test_num)\n",
    "    power=param_dist\n",
    "    p1, p2 = create_power_law(d, power, power_2)\n",
    "\n",
    "    server_private.load_private_data_multinomial(\n",
    "        LDPclient.release_private(\n",
    "            priv_mech,\n",
    "            data_gen.generate_multinomial_data(p1, sample_size),\n",
    "            d,\n",
    "            privacy_level,\n",
    "            device\n",
    "        ),\n",
    "        LDPclient.release_private(\n",
    "            priv_mech,\n",
    "            data_gen.generate_multinomial_data(p2, sample_size),\n",
    "            d,\n",
    "            privacy_level,\n",
    "            device\n",
    "        ),\n",
    "    d,\n",
    "    device,\n",
    "    device\n",
    "    )\n",
    "\n",
    "    time_now = datetime.utcnow().strftime('%Y-%m-%d %H:%M:%S')\n",
    "\n",
    "    p_value_vec[i], statistic_vec[i] = server_private.release_p_value_permutation(n_permutation)\n",
    "    t_end_i = time.time() - t_start_i\n",
    "\n",
    "    print(f\"pval: {p_value_vec[i]} -- {test_num}th test, time elapsed {t_end_i} -- emperical power so far (from test_start): {(p_value_vec[0:(i+1)] < significance_level).mean()}\")\n",
    "\n"
   ]
  }
 ],
 "metadata": {
  "kernelspec": {
   "display_name": "LDPUtsEnvK40_windows",
   "language": "python",
   "name": "python3"
  },
  "language_info": {
   "codemirror_mode": {
    "name": "ipython",
    "version": 3
   },
   "file_extension": ".py",
   "mimetype": "text/x-python",
   "name": "python",
   "nbconvert_exporter": "python",
   "pygments_lexer": "ipython3",
   "version": "3.7.12"
  }
 },
 "nbformat": 4,
 "nbformat_minor": 2
}
