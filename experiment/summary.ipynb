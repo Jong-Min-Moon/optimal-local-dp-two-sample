{
 "cells": [
  {
   "cell_type": "code",
   "execution_count": 1,
   "id": "continuing-vanilla",
   "metadata": {},
   "outputs": [],
   "source": [
    "import numpy as np\n",
    "import pandas as pd"
   ]
  },
  {
   "cell_type": "code",
   "execution_count": 11,
   "id": "59ba8fba",
   "metadata": {},
   "outputs": [
    {
     "data": {
      "text/plain": [
       "['genrr_chi', 'bitflip_projchi', 'lapu_ell2']"
      ]
     },
     "execution_count": 11,
     "metadata": {},
     "output_type": "execute_result"
    }
   ],
   "source": [
    "sample_size_vec = np.arange(1,21)*1000\n",
    "method_vec = [\"genrr_chi\", \"bitflip_projchi\", \"lapu_ell2\"]\n",
    "method_vec"
   ]
  },
  {
   "cell_type": "markdown",
   "id": "b1ab8ec1",
   "metadata": {},
   "source": [
    "# priv=05"
   ]
  },
  {
   "cell_type": "code",
   "execution_count": 12,
   "id": "mexican-fusion",
   "metadata": {},
   "outputs": [
    {
     "name": "stderr",
     "output_type": "stream",
     "text": [
      "/var/folders/w6/6r_601k96td7lw3ztsw07_8w0000gn/T/ipykernel_57482/2940424287.py:7: DeprecationWarning: Conversion of an array with ndim > 0 to a scalar is deprecated, and will error in future. Ensure you extract a single element from your array before performing this operation. (Deprecated NumPy 1.25.)\n",
      "  power_array[i,j] = (p_value_vec<0.05).mean(axis = 0)\n"
     ]
    }
   ],
   "source": [
    "expname = \"pval_k_4_priv_5\"\n",
    "power_array = np.zeros([len(sample_size_vec),3])\n",
    "for j, method_name in enumerate(method_vec):\n",
    "    for i, sample_size in enumerate(sample_size_vec):    \n",
    "        filename = './result/'+ expname + '_' + method_name + '_n_' + str(sample_size) + '.npy'\n",
    "        p_value_vec = np.load(filename)\n",
    "        power_array[i,j] = (p_value_vec<0.05).mean(axis = 0)\n",
    "power_array = np.hstack((sample_size_vec.reshape(-1,1), power_array))\n",
    "power_array = pd.DataFrame(power_array)\n",
    "power_array.columns = [\"n\"] + method_vec\n",
    "power_array.to_csv(\"./\" + expname + '.csv', index = False)"
   ]
  },
  {
   "cell_type": "markdown",
   "id": "138479b9",
   "metadata": {},
   "source": [
    "# priv = 10\n"
   ]
  },
  {
   "cell_type": "code",
   "execution_count": 13,
   "id": "piano-shock",
   "metadata": {},
   "outputs": [
    {
     "name": "stderr",
     "output_type": "stream",
     "text": [
      "/var/folders/w6/6r_601k96td7lw3ztsw07_8w0000gn/T/ipykernel_57482/2253550010.py:7: DeprecationWarning: Conversion of an array with ndim > 0 to a scalar is deprecated, and will error in future. Ensure you extract a single element from your array before performing this operation. (Deprecated NumPy 1.25.)\n",
      "  power_array[i,j] = (p_value_vec<0.05).mean(axis = 0)\n"
     ]
    }
   ],
   "source": [
    "expname = \"pval_k_4_priv_10\"\n",
    "power_array = np.zeros([len(sample_size_vec),3])\n",
    "for j, method_name in enumerate(method_vec):\n",
    "    for i, sample_size in enumerate(sample_size_vec):    \n",
    "        filename = './result/'+ expname + '_' + method_name + '_n_' + str(sample_size) + '.npy'\n",
    "        p_value_vec = np.load(filename)\n",
    "        power_array[i,j] = (p_value_vec<0.05).mean(axis = 0)\n",
    "power_array = np.hstack((sample_size_vec.reshape(-1,1), power_array))\n",
    "power_array = pd.DataFrame(power_array)\n",
    "power_array.columns = [\"n\"] + method_vec\n",
    "power_array.to_csv(\"./\" + expname + '.csv', index = False)"
   ]
  },
  {
   "cell_type": "markdown",
   "id": "929255db",
   "metadata": {},
   "source": [
    "# priv = 20\n"
   ]
  },
  {
   "cell_type": "code",
   "execution_count": 14,
   "id": "c902f299",
   "metadata": {},
   "outputs": [
    {
     "name": "stderr",
     "output_type": "stream",
     "text": [
      "/var/folders/w6/6r_601k96td7lw3ztsw07_8w0000gn/T/ipykernel_57482/3608101831.py:7: DeprecationWarning: Conversion of an array with ndim > 0 to a scalar is deprecated, and will error in future. Ensure you extract a single element from your array before performing this operation. (Deprecated NumPy 1.25.)\n",
      "  power_array[i,j] = (p_value_vec<0.05).mean(axis = 0)\n"
     ]
    }
   ],
   "source": [
    "expname = \"pval_k_4_priv_20\"\n",
    "power_array = np.zeros([len(sample_size_vec),3])\n",
    "for j, method_name in enumerate(method_vec):\n",
    "    for i, sample_size in enumerate(sample_size_vec):    \n",
    "        filename = './result/'+ expname + '_' + method_name + '_n_' + str(sample_size) + '.npy'\n",
    "        p_value_vec = np.load(filename)\n",
    "        power_array[i,j] = (p_value_vec<0.05).mean(axis = 0)\n",
    "power_array = np.hstack((sample_size_vec.reshape(-1,1), power_array))\n",
    "power_array = pd.DataFrame(power_array)\n",
    "power_array.columns = [\"n\"] + method_vec\n",
    "power_array.to_csv(\"./\" + expname + '.csv', index = False)"
   ]
  }
 ],
 "metadata": {
  "kernelspec": {
   "display_name": "Python 3 (ipykernel)",
   "language": "python",
   "name": "python3"
  },
  "language_info": {
   "codemirror_mode": {
    "name": "ipython",
    "version": 3
   },
   "file_extension": ".py",
   "mimetype": "text/x-python",
   "name": "python",
   "nbconvert_exporter": "python",
   "pygments_lexer": "ipython3",
   "version": "3.12.1"
  }
 },
 "nbformat": 4,
 "nbformat_minor": 5
}
