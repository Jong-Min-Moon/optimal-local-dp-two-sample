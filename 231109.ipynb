{
 "cells": [
  {
   "cell_type": "code",
   "execution_count": 22,
   "metadata": {},
   "outputs": [],
   "source": [
    "from discretizer import discretizer\n",
    "from client import client\n",
    "import torch\n",
    "device = torch.device(\"cuda:0\" if torch.cuda.is_available() else \"cpu\")\n",
    "import matplotlib.pyplot as plt\n",
    "from server import server_twosample_U, server_twosample_genrr, server_twosample_bitflip\n",
    "from data_generator import data_generator\n",
    "import time\n",
    "import numpy as np\n",
    "from scipy.stats import chi2\n",
    "from utils import chi_sq_dist, projection_orth_one\n"
   ]
  },
  {
   "cell_type": "markdown",
   "metadata": {},
   "source": [
    "# check coding error"
   ]
  },
  {
   "cell_type": "code",
   "execution_count": 23,
   "metadata": {},
   "outputs": [
    {
     "name": "stdout",
     "output_type": "stream",
     "text": [
      "tensor([ 3.7253e-09, -1.1176e-08,  0.0000e+00, -7.4506e-09, -3.7253e-09,\n",
      "         3.7253e-09])\n"
     ]
    }
   ],
   "source": [
    "alphabet_size = 6\n",
    "A = projection_orth_one(alphabet_size)#symmetric\n",
    "p_unif = torch.tensor([1/alphabet_size]).repeat(alphabet_size)\n",
    "print(torch.matmul(A, p_unif)) # no coding error"
   ]
  },
  {
   "cell_type": "code",
   "execution_count": 24,
   "metadata": {},
   "outputs": [
    {
     "name": "stdout",
     "output_type": "stream",
     "text": [
      "tensor([0., 0., 0., 0.])\n",
      "\n",
      "\n",
      "perturbation\n",
      "tensor([0.2600, 0.2400, 0.2600, 0.2400])\n",
      "projection\n",
      "tensor([ 0.0100, -0.0100,  0.0100, -0.0100])\n",
      "\n",
      "\n",
      "perturbation\n",
      "tensor([0.2400, 0.2600, 0.2400, 0.2600])\n",
      "projection\n",
      "tensor([-0.0100,  0.0100, -0.0100,  0.0100])\n"
     ]
    }
   ],
   "source": [
    "alphabet_size = 4\n",
    "A = projection_orth_one(alphabet_size)#symmetric\n",
    "p_unif = torch.tensor([1/alphabet_size]).repeat(alphabet_size)\n",
    "print(torch.matmul(A, p_unif)) # no coding error\n",
    "\n",
    "bump_size = 0.01\n",
    "\n",
    "p1 = p_unif.add(\n",
    "    torch.remainder(\n",
    "    torch.tensor(range(alphabet_size)),\n",
    "    2\n",
    "    ).add(-1/2).mul(-2).mul(bump_size)\n",
    ")\n",
    "p2 = p_unif.add(\n",
    "    torch.remainder(\n",
    "    torch.tensor(range(alphabet_size)),\n",
    "    2\n",
    "    ).add(-1/2).mul(2).mul(bump_size)\n",
    ")\n",
    "print(\"\\n\\nperturbation\")\n",
    "print(p1)\n",
    "print(\"projection\")\n",
    "print(torch.matmul(A, p1))\n",
    "\n",
    "print(\"\\n\\nperturbation\")\n",
    "print(p2)\n",
    "print(\"projection\")\n",
    "print(torch.matmul(A, p2))"
   ]
  },
  {
   "cell_type": "markdown",
   "metadata": {},
   "source": [
    "# uniform vs perturbation"
   ]
  },
  {
   "cell_type": "markdown",
   "metadata": {},
   "source": [
    "Gaboardi's setting 1: d=4, bump size = 0.01, privacy level = 1 -> power 0.2 at sample size=20000"
   ]
  },
  {
   "cell_type": "code",
   "execution_count": 11,
   "metadata": {},
   "outputs": [
    {
     "name": "stdout",
     "output_type": "stream",
     "text": [
      "tensor([0., 0., 0., 0.])\n",
      "\n",
      "\n",
      "perturbation\n",
      "tensor([0.2600, 0.2400, 0.2600, 0.2400])\n",
      "projection\n",
      "tensor([ 0.0100, -0.0100,  0.0100, -0.0100])\n",
      "\n",
      "\n",
      "perturbation\n",
      "tensor([0.2400, 0.2600, 0.2400, 0.2600])\n",
      "projection\n",
      "tensor([-0.0100,  0.0100, -0.0100,  0.0100])\n",
      "0th test\n",
      "10th test\n",
      "20th test\n",
      "30th test\n",
      "40th test\n",
      "50th test\n",
      "60th test\n",
      "70th test\n",
      "80th test\n",
      "90th test\n",
      "66.45201683044434\n",
      "p1 = tensor([0.2600, 0.2400, 0.2600, 0.2400])\n",
      "p2 = tensor([0.2400, 0.2600, 0.2400, 0.2600])\n",
      "privacy level = 1\n",
      "sample size = 50000,\n",
      "power estimate =\n",
      "    0.74(bitflip, chi)\n",
      "    0.74(bitflip, permu)\n",
      "\n"
     ]
    }
   ],
   "source": [
    "alphabet_size = 4\n",
    "bump_size = 0.01\n",
    "sample_size_list = [50000]\n",
    "\n",
    "\n",
    "A = projection_orth_one(alphabet_size)#symmetric\n",
    "p_unif = torch.tensor([1/alphabet_size]).repeat(alphabet_size)\n",
    "print(torch.matmul(A, p_unif)) # no coding error\n",
    "\n",
    "\n",
    "\n",
    "\n",
    "\n",
    "\n",
    "\n",
    "p1 = p_unif.add(\n",
    "    torch.remainder(\n",
    "    torch.tensor(range(alphabet_size)),\n",
    "    2\n",
    "    ).add(-1/2).mul(-2).mul(bump_size)\n",
    ")\n",
    "p2 = p_unif.add(\n",
    "    torch.remainder(\n",
    "    torch.tensor(range(alphabet_size)),\n",
    "    2\n",
    "    ).add(-1/2).mul(2).mul(bump_size)\n",
    ")\n",
    "print(\"\\n\\nperturbation\")\n",
    "print(p1)\n",
    "print(\"projection\")\n",
    "print(torch.matmul(A, p1))\n",
    "\n",
    "print(\"\\n\\nperturbation\")\n",
    "print(p2)\n",
    "print(\"projection\")\n",
    "print(torch.matmul(A, p2))\n",
    "\n",
    "\n",
    "\n",
    "n_test = 100\n",
    "n_permutation = 99\n",
    "significance_level = 0.05\n",
    "\n",
    "\n",
    "\n",
    "data_gen = data_generator(device)\n",
    "\n",
    "t = time.time()\n",
    "privacy_level = 1\n",
    "LDPclient = client(device, privacy_level)\n",
    "server_bitflip = server_twosample_bitflip(device, privacy_level)\n",
    "\n",
    "\n",
    "p_value_array_bitflip = np.zeros([n_test, len(sample_size_list)])\n",
    "p_value_array_bitflip_permu = np.zeros([n_test, len(sample_size_list)])\n",
    "\n",
    "\n",
    "for i in range(n_test):\n",
    "    if i%10 ==0:\n",
    "        print(f\"{i}th test\")\n",
    "    for j, sample_size in enumerate(sample_size_list):\n",
    "        data_y = data_gen.generate_multinomial_data(p1, sample_size)\n",
    "        data_z = data_gen.generate_multinomial_data(p2, sample_size)\n",
    "        LDPclient.load_data_disc(data_y, data_z, alphabet_size)\n",
    "      \n",
    "        \n",
    "        # bitflip\n",
    "        data_y_bitflip, data_z_bitflip = LDPclient.release_bitflip()\n",
    "        server_bitflip.load_private_data_multinomial(data_y_bitflip, data_z_bitflip, alphabet_size)      \n",
    "        p_value_array_bitflip[i,j]  = server_bitflip.release_p_value()\n",
    "        p_value_array_bitflip_permu[i,j]  = server_bitflip.release_p_value_permutation(n_permutation)\n",
    "        \n",
    "\n",
    " \n",
    "elapsed = time.time() - t\n",
    "print(elapsed)\n",
    "\n",
    "print(\n",
    "   # f\"small chi-square distance\\n\"+\n",
    "        f\"p1 = {p1}\\n\"+\n",
    "        f\"p2 = {p2}\\n\"+\n",
    "        f\"privacy level = {privacy_level}\"\n",
    ")\n",
    "for j, sample_size in enumerate(sample_size_list):\n",
    "    print(\n",
    "        f\"sample size = {sample_size},\\n\"+\n",
    "        f\"power estimate =\\n\"+\n",
    "        f\"    {sum( p_value_array_bitflip[:,j]<0.05)/n_test }(bitflip, chi)\\n\"+\n",
    "        f\"    {sum( p_value_array_bitflip_permu[:,j]<0.05)/n_test }(bitflip, permu)\\n\"\n",
    "    )"
   ]
  },
  {
   "cell_type": "markdown",
   "metadata": {},
   "source": [
    "Gaboardi's setting 2: d=40, bump size = 0.005, privacy level = 1 -> power 0.25 at sample size=50000"
   ]
  },
  {
   "cell_type": "code",
   "execution_count": 20,
   "metadata": {},
   "outputs": [
    {
     "name": "stdout",
     "output_type": "stream",
     "text": [
      "tensor([ 1.1642e-10,  1.1642e-10, -8.1491e-10,  1.1642e-10, -8.1491e-10,\n",
      "        -1.7462e-09, -8.1491e-10,  1.1642e-10, -8.1491e-10,  1.1642e-10,\n",
      "        -8.1491e-10,  1.1642e-10, -8.1491e-10, -1.7462e-09, -8.1491e-10,\n",
      "         1.1642e-10, -8.1491e-10, -1.7462e-09, -8.1491e-10,  1.1642e-10,\n",
      "        -8.1491e-10, -1.7462e-09, -8.1491e-10,  1.1642e-10, -8.1491e-10,\n",
      "         1.1642e-10, -8.1491e-10,  1.1642e-10, -8.1491e-10, -1.7462e-09,\n",
      "        -8.1491e-10,  1.1642e-10, -8.1491e-10, -1.9791e-09,  0.0000e+00,\n",
      "         0.0000e+00, -1.8626e-09, -1.2806e-09,  0.0000e+00,  0.0000e+00])\n",
      "\n",
      "\n",
      "perturbation\n",
      "tensor([0.0250, 0.0250, 0.0250, 0.0250, 0.0250, 0.0250, 0.0250, 0.0250, 0.0250,\n",
      "        0.0250, 0.0250, 0.0250, 0.0250, 0.0250, 0.0250, 0.0250, 0.0250, 0.0250,\n",
      "        0.0250, 0.0250, 0.0250, 0.0250, 0.0250, 0.0250, 0.0250, 0.0250, 0.0250,\n",
      "        0.0250, 0.0250, 0.0250, 0.0250, 0.0250, 0.0250, 0.0250, 0.0250, 0.0250,\n",
      "        0.0250, 0.0250, 0.0250, 0.0250])\n",
      "projection\n",
      "tensor([ 1.1642e-10,  1.1642e-10, -8.1491e-10,  1.1642e-10, -8.1491e-10,\n",
      "        -1.7462e-09, -8.1491e-10,  1.1642e-10, -8.1491e-10,  1.1642e-10,\n",
      "        -8.1491e-10,  1.1642e-10, -8.1491e-10, -1.7462e-09, -8.1491e-10,\n",
      "         1.1642e-10, -8.1491e-10, -1.7462e-09, -8.1491e-10,  1.1642e-10,\n",
      "        -8.1491e-10, -1.7462e-09, -8.1491e-10,  1.1642e-10, -8.1491e-10,\n",
      "         1.1642e-10, -8.1491e-10,  1.1642e-10, -8.1491e-10, -1.7462e-09,\n",
      "        -8.1491e-10,  1.1642e-10, -8.1491e-10, -1.9791e-09,  0.0000e+00,\n",
      "         0.0000e+00, -1.8626e-09, -1.2806e-09,  0.0000e+00,  0.0000e+00])\n",
      "\n",
      "\n",
      "perturbation\n",
      "tensor([0.0200, 0.0300, 0.0200, 0.0300, 0.0200, 0.0300, 0.0200, 0.0300, 0.0200,\n",
      "        0.0300, 0.0200, 0.0300, 0.0200, 0.0300, 0.0200, 0.0300, 0.0200, 0.0300,\n",
      "        0.0200, 0.0300, 0.0200, 0.0300, 0.0200, 0.0300, 0.0200, 0.0300, 0.0200,\n",
      "        0.0300, 0.0200, 0.0300, 0.0200, 0.0300, 0.0200, 0.0300, 0.0200, 0.0300,\n",
      "        0.0200, 0.0300, 0.0200, 0.0300])\n",
      "projection\n",
      "tensor([-0.0050,  0.0050, -0.0050,  0.0050, -0.0050,  0.0050, -0.0050,  0.0050,\n",
      "        -0.0050,  0.0050, -0.0050,  0.0050, -0.0050,  0.0050, -0.0050,  0.0050,\n",
      "        -0.0050,  0.0050, -0.0050,  0.0050, -0.0050,  0.0050, -0.0050,  0.0050,\n",
      "        -0.0050,  0.0050, -0.0050,  0.0050, -0.0050,  0.0050, -0.0050,  0.0050,\n",
      "        -0.0050,  0.0050, -0.0050,  0.0050, -0.0050,  0.0050, -0.0050,  0.0050])\n",
      "0th test\n",
      "10th test\n",
      "20th test\n",
      "30th test\n",
      "40th test\n",
      "50th test\n",
      "60th test\n",
      "70th test\n",
      "80th test\n",
      "90th test\n",
      "79.39944863319397\n",
      "p1 = tensor([0.0250, 0.0250, 0.0250, 0.0250, 0.0250, 0.0250, 0.0250, 0.0250, 0.0250,\n",
      "        0.0250, 0.0250, 0.0250, 0.0250, 0.0250, 0.0250, 0.0250, 0.0250, 0.0250,\n",
      "        0.0250, 0.0250, 0.0250, 0.0250, 0.0250, 0.0250, 0.0250, 0.0250, 0.0250,\n",
      "        0.0250, 0.0250, 0.0250, 0.0250, 0.0250, 0.0250, 0.0250, 0.0250, 0.0250,\n",
      "        0.0250, 0.0250, 0.0250, 0.0250])\n",
      "p2 = tensor([0.0200, 0.0300, 0.0200, 0.0300, 0.0200, 0.0300, 0.0200, 0.0300, 0.0200,\n",
      "        0.0300, 0.0200, 0.0300, 0.0200, 0.0300, 0.0200, 0.0300, 0.0200, 0.0300,\n",
      "        0.0200, 0.0300, 0.0200, 0.0300, 0.0200, 0.0300, 0.0200, 0.0300, 0.0200,\n",
      "        0.0300, 0.0200, 0.0300, 0.0200, 0.0300, 0.0200, 0.0300, 0.0200, 0.0300,\n",
      "        0.0200, 0.0300, 0.0200, 0.0300])\n",
      "privacy level = 1\n",
      "sample size = 50000,\n",
      "power estimate =\n",
      "    0.19(bitflip, chi)\n",
      "    0.18(bitflip, permu)\n",
      "\n"
     ]
    }
   ],
   "source": [
    "alphabet_size = 40\n",
    "bump_size = 0.005\n",
    "sample_size_list = [50000]\n",
    "\n",
    "\n",
    "A = projection_orth_one(alphabet_size)#symmetric\n",
    "p_unif = torch.tensor([1/alphabet_size]).repeat(alphabet_size)\n",
    "print(torch.matmul(A, p_unif)) # no coding error\n",
    "\n",
    "\n",
    "\n",
    "\n",
    "\n",
    "\n",
    "\n",
    "#p1 = p_unif.add(\n",
    "##    torch.remainder(\n",
    "#    torch.tensor(range(alphabet_size)),\n",
    "#    2\n",
    "#    ).add(-1/2).mul(-2).mul(bump_size)\n",
    "#)\n",
    "p1 = p_unif\n",
    "p2 = p_unif.add(\n",
    "    torch.remainder(\n",
    "    torch.tensor(range(alphabet_size)),\n",
    "    2\n",
    "    ).add(-1/2).mul(2).mul(bump_size)\n",
    ")\n",
    "print(\"\\n\\nperturbation\")\n",
    "print(p1)\n",
    "print(\"projection\")\n",
    "print(torch.matmul(A, p1))\n",
    "\n",
    "print(\"\\n\\nperturbation\")\n",
    "print(p2)\n",
    "print(\"projection\")\n",
    "print(torch.matmul(A, p2))\n",
    "\n",
    "\n",
    "\n",
    "n_test = 100\n",
    "n_permutation = 99\n",
    "significance_level = 0.05\n",
    "\n",
    "\n",
    "\n",
    "data_gen = data_generator(device)\n",
    "\n",
    "t = time.time()\n",
    "privacy_level = 1\n",
    "LDPclient = client(device, privacy_level)\n",
    "server_bitflip = server_twosample_bitflip(device, privacy_level)\n",
    "\n",
    "\n",
    "p_value_array_bitflip = np.zeros([n_test, len(sample_size_list)])\n",
    "p_value_array_bitflip_permu = np.zeros([n_test, len(sample_size_list)])\n",
    "\n",
    "\n",
    "for i in range(n_test):\n",
    "    if i%10 ==0:\n",
    "        print(f\"{i}th test\")\n",
    "    for j, sample_size in enumerate(sample_size_list):\n",
    "        data_y = data_gen.generate_multinomial_data(p1, sample_size)\n",
    "        data_z = data_gen.generate_multinomial_data(p2, sample_size)\n",
    "        LDPclient.load_data_disc(data_y, data_z, alphabet_size)\n",
    "      \n",
    "        \n",
    "        # bitflip\n",
    "        data_y_bitflip, data_z_bitflip = LDPclient.release_bitflip()\n",
    "        server_bitflip.load_private_data(data_y_bitflip, data_z_bitflip)      \n",
    "        p_value_array_bitflip[i,j]  = server_bitflip.release_p_value()\n",
    "        p_value_array_bitflip_permu[i,j]  = server_bitflip.release_p_value_permutation(n_permutation)\n",
    "        \n",
    "\n",
    " \n",
    "elapsed = time.time() - t\n",
    "print(elapsed)\n",
    "\n",
    "print(\n",
    "   # f\"small chi-square distance\\n\"+\n",
    "        f\"p1 = {p1}\\n\"+\n",
    "        f\"p2 = {p2}\\n\"+\n",
    "        f\"privacy level = {privacy_level}\"\n",
    ")\n",
    "for j, sample_size in enumerate(sample_size_list):\n",
    "    print(\n",
    "        f\"sample size = {sample_size},\\n\"+\n",
    "        f\"power estimate =\\n\"+\n",
    "        f\"    {sum( p_value_array_bitflip[:,j]<0.05)/n_test }(bitflip, chi)\\n\"+\n",
    "        f\"    {sum( p_value_array_bitflip_permu[:,j]<0.05)/n_test }(bitflip, permu)\\n\"\n",
    "    )"
   ]
  },
  {
   "cell_type": "code",
   "execution_count": 117,
   "metadata": {},
   "outputs": [
    {
     "name": "stdout",
     "output_type": "stream",
     "text": [
      "p1 = tensor([0.1350, 0.1150, 0.1350, 0.1150, 0.1350, 0.1150, 0.1350, 0.1150])\n",
      "p2 = tensor([0.1150, 0.1350, 0.1150, 0.1350, 0.1150, 0.1350, 0.1150, 0.1350])\n",
      "privacy level = 16.0\n",
      "sample size = 2000,\n",
      "power estimate =\n",
      "    0.92(lapu, permu)\n",
      "    0.0(bitflip, chi)\n",
      "    0.09(bitflip, permu)\n",
      "    0.95(genrr, chi)\n",
      "    0.96(genrr, permu)\n",
      "\n"
     ]
    }
   ],
   "source": [
    "alphabet_size = 4\n",
    "bump_size = 0.01\n",
    "sample_size_list = [50000]\n",
    "\n",
    "\n",
    "A = projection_orth_one(alphabet_size)#symmetric\n",
    "p_unif = torch.tensor([1/alphabet_size]).repeat(alphabet_size)\n",
    "print(torch.matmul(A, p_unif)) # no coding error\n",
    "\n",
    "\n",
    "\n",
    "\n",
    "\n",
    "\n",
    "\n",
    "p1 = p_unif.add(\n",
    "    torch.remainder(\n",
    "    torch.tensor(range(alphabet_size)),\n",
    "    2\n",
    "    ).add(-1/2).mul(-2).mul(bump_size)\n",
    ")\n",
    "p2 = p_unif.add(\n",
    "    torch.remainder(\n",
    "    torch.tensor(range(alphabet_size)),\n",
    "    2\n",
    "    ).add(-1/2).mul(2).mul(bump_size)\n",
    ")\n",
    "print(\"\\n\\nperturbation\")\n",
    "print(p1)\n",
    "print(\"projection\")\n",
    "print(torch.matmul(A, p1))\n",
    "\n",
    "print(\"\\n\\nperturbation\")\n",
    "print(p2)\n",
    "print(\"projection\")\n",
    "print(torch.matmul(A, p2))\n",
    "\n",
    "\n",
    "\n",
    "n_test = 100\n",
    "n_permutation = 99\n",
    "significance_level = 0.05\n",
    "\n",
    "\n",
    "\n",
    "data_gen = data_generator(device)\n",
    "\n",
    "t = time.time()\n",
    "privacy_level = 1\n",
    "LDPclient = client(device, privacy_level)\n",
    "server_bitflip = server_twosample_bitflip(device, privacy_level)\n",
    "server_genrr = server_twosample_genrr(device, privacy_level)\n",
    "server_lapu = server_twosample_U(device, 100)\n",
    "\n",
    "\n",
    "p_value_array_bitflip = np.zeros([n_test, len(sample_size_list)])\n",
    "p_value_array_bitflip_permu = np.zeros([n_test, len(sample_size_list)])\n",
    "p_value_array_genrr = np.zeros([n_test, len(sample_size_list)])\n",
    "p_value_array_genrr_permu = np.zeros([n_test, len(sample_size_list)])\n",
    "\n",
    "for i in range(n_test):\n",
    "    if i%10 ==0:\n",
    "        print(f\"{i}th test\")\n",
    "    for j, sample_size in enumerate(sample_size_list):\n",
    "        data_y = data_gen.generate_multinomial_data(p1, sample_size)\n",
    "        data_z = data_gen.generate_multinomial_data(p2, sample_size)\n",
    "        LDPclient.load_data_disc(data_y, data_z, alphabet_size)\n",
    "      \n",
    "        \n",
    "        # bitflip\n",
    "        data_y_bitflip, data_z_bitflip = LDPclient.release_bitflip()\n",
    "        server_bitflip.load_private_data(data_y_bitflip, data_z_bitflip)      \n",
    "        p_value_array_bitflip[i,j]  = server_bitflip.release_p_value()\n",
    "        p_value_array_bitflip_permu[i,j]  = server_bitflip.release_p_value_permutation(n_permutation)\n",
    "        \n",
    "        #genrr\n",
    "        data_y_genrr, data_z_genrr, alphabet_size = LDPclient.release_genrr()\n",
    "        data_y_lapu, data_z_lapu = LDPclient.release_lapu()\n",
    "        server_lapu.load_private_data(data_y_lapu, data_z_lapu)\n",
    " \n",
    "elapsed = time.time() - t\n",
    "print(elapsed)\n",
    "\n",
    "print(\n",
    "   # f\"small chi-square distance\\n\"+\n",
    "        f\"p1 = {p1}\\n\"+\n",
    "        f\"p2 = {p2}\\n\"+\n",
    "        f\"privacy level = {privacy_level}\"\n",
    ")\n",
    "for j, sample_size in enumerate(sample_size_list):\n",
    "    print(\n",
    "        f\"sample size = {sample_size},\\n\"+\n",
    "        f\"power estimate =\\n\"+\n",
    "        f\"    {sum( p_value_array_bitflip[:,j]<0.05)/n_test }(bitflip, chi)\\n\"+\n",
    "        f\"    {sum( p_value_array_bitflip_permu[:,j]<0.05)/n_test }(bitflip, permu)\\n\"\n",
    "    )"
   ]
  },
  {
   "cell_type": "markdown",
   "metadata": {},
   "source": [
    "# large chi-square distance"
   ]
  },
  {
   "cell_type": "code",
   "execution_count": 120,
   "metadata": {},
   "outputs": [
    {
     "name": "stdout",
     "output_type": "stream",
     "text": [
      "tensor(1.)\n",
      "tensor(1.4142)\n"
     ]
    }
   ],
   "source": [
    "n_test = 100\n",
    "n_permutation = 99\n",
    "significance_level = 0.05\n",
    "alphabet_size = 4\n",
    "\n",
    "\n",
    "sample_size_list = [1000]\n",
    "\n",
    "data_gen = data_generator(device)\n",
    "\n",
    "p1 = torch.tensor([0,  1/2,  0 , 1/2])\n",
    "p2 = torch.tensor([1/2,   0,  1/2, 0 ])\n",
    "print(torch.dist(p1,p2,p=2))\n",
    "print(chi_sq_dist(p1,p2))"
   ]
  },
  {
   "cell_type": "code",
   "execution_count": 122,
   "metadata": {},
   "outputs": [
    {
     "name": "stdout",
     "output_type": "stream",
     "text": [
      "1th test\n",
      "2th test\n",
      "3th test\n",
      "4th test\n",
      "5th test\n",
      "6th test\n",
      "7th test\n",
      "8th test\n",
      "9th test\n",
      "10th test\n",
      "11th test\n",
      "12th test\n",
      "13th test\n",
      "14th test\n",
      "15th test\n",
      "16th test\n",
      "17th test\n",
      "18th test\n",
      "19th test\n",
      "20th test\n",
      "21th test\n",
      "22th test\n",
      "23th test\n",
      "24th test\n",
      "25th test\n",
      "26th test\n",
      "27th test\n",
      "28th test\n",
      "29th test\n",
      "30th test\n",
      "31th test\n",
      "32th test\n",
      "33th test\n",
      "34th test\n",
      "35th test\n",
      "36th test\n",
      "37th test\n",
      "38th test\n",
      "39th test\n",
      "40th test\n",
      "41th test\n",
      "42th test\n",
      "43th test\n",
      "44th test\n",
      "45th test\n",
      "46th test\n",
      "47th test\n",
      "48th test\n",
      "49th test\n",
      "50th test\n",
      "51th test\n",
      "52th test\n",
      "53th test\n",
      "54th test\n",
      "55th test\n",
      "56th test\n",
      "57th test\n",
      "58th test\n",
      "59th test\n",
      "60th test\n",
      "61th test\n",
      "62th test\n",
      "63th test\n",
      "64th test\n",
      "65th test\n",
      "66th test\n",
      "67th test\n",
      "68th test\n",
      "69th test\n",
      "70th test\n",
      "71th test\n",
      "72th test\n",
      "73th test\n",
      "74th test\n",
      "75th test\n",
      "76th test\n",
      "77th test\n",
      "78th test\n",
      "79th test\n",
      "80th test\n",
      "81th test\n",
      "82th test\n",
      "83th test\n",
      "84th test\n",
      "85th test\n",
      "86th test\n",
      "87th test\n",
      "88th test\n",
      "89th test\n",
      "90th test\n",
      "91th test\n",
      "92th test\n",
      "93th test\n",
      "94th test\n",
      "95th test\n",
      "96th test\n",
      "97th test\n",
      "98th test\n",
      "99th test\n",
      "100th test\n",
      "30.53968644142151\n"
     ]
    }
   ],
   "source": [
    "t = time.time()\n",
    "privacy_level = 0.1\n",
    "LDPclient = client(device, privacy_level)\n",
    "server_bitflip = server_twosample_bitflip(device, privacy_level)\n",
    "server_genrr = server_twosample_genrr(device, privacy_level)\n",
    "server_lapu = server_twosample_U(device, privacy_level)\n",
    "\n",
    "p_value_array_bitflip = np.zeros([n_test, len(sample_size_list)])\n",
    "p_value_array_bitflip_permu = np.zeros([n_test, len(sample_size_list)])\n",
    "p_value_array_genrr = np.zeros([n_test, len(sample_size_list)])\n",
    "p_value_array_genrr_permu = np.zeros([n_test, len(sample_size_list)])\n",
    "p_value_array_lapu_permu = np.zeros([n_test, len(sample_size_list)])\n",
    "\n",
    "for i in range(n_test):\n",
    "    print(f\"{i+1}th test\")\n",
    "    for j, sample_size in enumerate(sample_size_list):\n",
    "        data_y = data_gen.generate_multinomial_data(p1, sample_size)\n",
    "        data_z = data_gen.generate_multinomial_data(p2, sample_size)\n",
    "        LDPclient.load_data_disc(data_y, data_z, alphabet_size)\n",
    "        \n",
    "           # lapu\n",
    "        data_y_lapu, data_z_lapu = LDPclient.release_lapu()\n",
    "        server_lapu.load_private_data(data_y_lapu, data_z_lapu)\n",
    "        p_value_array_lapu_permu[i,j] = server_lapu.release_p_value_permutation(n_permutation)      \n",
    "        \n",
    "            # bitflip\n",
    "        data_y_bitflip, data_z_bitflip = LDPclient.release_bitflip()\n",
    "        server_bitflip.load_private_data(data_y_bitflip, data_z_bitflip)      \n",
    "        p_value_array_bitflip[i,j]  = server_bitflip.release_p_value()\n",
    "        p_value_array_bitflip_permu[i,j]  = server_bitflip.release_p_value_permutation(n_permutation)\n",
    "        \n",
    "        # genrr\n",
    "        data_y_genrr, data_z_genrr, alphabet_size = LDPclient.release_genrr()\n",
    "        server_genrr.load_private_data(data_y_genrr, data_z_genrr, alphabet_size)\n",
    "        p_value_array_genrr[i,j]  = server_genrr.release_p_value()\n",
    "        p_value_array_genrr_permu[i,j]  = server_genrr.release_p_value_permutation(n_permutation)\n",
    "\n",
    " \n",
    "elapsed = time.time() - t\n",
    "print(elapsed)"
   ]
  },
  {
   "cell_type": "code",
   "execution_count": 123,
   "metadata": {},
   "outputs": [
    {
     "name": "stdout",
     "output_type": "stream",
     "text": [
      "small chi-square distance\n",
      "p1 = tensor([0.0000, 0.5000, 0.0000, 0.5000])\n",
      "p2 = tensor([0.5000, 0.0000, 0.5000, 0.0000])\n",
      "privacy level = 0.1\n",
      "sample size = 1000,\n",
      "power estimate =\n",
      "    0.09(lapu, permu)\n",
      "    0.0(bitflip, chi)\n",
      "    0.06(bitflip, permu)\n",
      "    0.14(genrr, chi)\n",
      "    0.16(genrr, chi)\n",
      "\n"
     ]
    }
   ],
   "source": [
    "print(\n",
    "    f\"small chi-square distance\\n\"+\n",
    "        f\"p1 = {p1}\\n\"+\n",
    "        f\"p2 = {p2}\\n\"+\n",
    "        f\"privacy level = {privacy_level}\"\n",
    ")\n",
    "for j, sample_size in enumerate(sample_size_list):\n",
    "    print(\n",
    "        f\"sample size = {sample_size},\\n\"+\n",
    "        f\"power estimate =\\n\"+\n",
    "        f\"    {sum( p_value_array_lapu_permu[:,j]<0.05)/n_test }(lapu, permu)\\n\"+\n",
    "        f\"    {sum( p_value_array_bitflip[:,j]<0.05)/n_test }(bitflip, chi)\\n\"+\n",
    "        f\"    {sum( p_value_array_bitflip_permu[:,j]<0.05)/n_test }(bitflip, permu)\\n\"+\n",
    "        f\"    {sum( p_value_array_genrr[:,j]<0.05)/n_test }(genrr, chi)\\n\" +\n",
    "        f\"    {sum( p_value_array_genrr_permu[:,j]<0.05)/n_test }(genrr, chi)\\n\"\n",
    "    )"
   ]
  },
  {
   "cell_type": "markdown",
   "metadata": {},
   "source": [
    "# low chi-square distance"
   ]
  },
  {
   "cell_type": "code",
   "execution_count": 28,
   "metadata": {},
   "outputs": [
    {
     "name": "stdout",
     "output_type": "stream",
     "text": [
      "tensor(0.5590)\n",
      "tensor(0.7906)\n"
     ]
    }
   ],
   "source": [
    "p1 = torch.tensor([7/16,  5/16,  3/16 , 1/16])\n",
    "p2 = torch.tensor([1/16,  3/16,  5/16,  7/16 ])\n",
    "print(torch.dist(p1,p2,p=2))\n",
    "print(chi_sq_dist(p1,p2))"
   ]
  },
  {
   "cell_type": "code",
   "execution_count": 29,
   "metadata": {},
   "outputs": [
    {
     "data": {
      "text/plain": [
       "138.14739894866943"
      ]
     },
     "execution_count": 29,
     "metadata": {},
     "output_type": "execute_result"
    }
   ],
   "source": [
    "\n",
    "\n",
    "\n",
    "t = time.time()\n",
    "privacy_level = 0.8\n",
    "LDPclient = client(device, privacy_level)\n",
    "server_bitflip = server_twosample_bitflip(device, privacy_level)\n",
    "server_genrr = server_twosample_genrr(device, privacy_level)\n",
    "server_lapu = server_twosample_U(device, privacy_level)\n",
    "\n",
    "p_value_array_bitflip = np.zeros([n_test, len(sample_size_list)])\n",
    "p_value_array_bitflip_permu = np.zeros([n_test, len(sample_size_list)])\n",
    "p_value_array_genrr = np.zeros([n_test, len(sample_size_list)])\n",
    "p_value_array_genrr_permu = np.zeros([n_test, len(sample_size_list)])\n",
    "p_value_array_lapu_permu = np.zeros([n_test, len(sample_size_list)])\n",
    "\n",
    "for i in range(n_test):\n",
    "    for j, sample_size in enumerate(sample_size_list):\n",
    "        data_y = data_gen.generate_multinomial_data(p1, sample_size)\n",
    "        data_z = data_gen.generate_multinomial_data(p2, sample_size)\n",
    "        LDPclient.load_data_disc(data_y, data_z, alphabet_size)\n",
    "        \n",
    "           # lapu\n",
    "        data_y_lapu, data_z_lapu = LDPclient.release_lapu()\n",
    "        server_lapu.load_private_data(data_y_lapu, data_z_lapu)\n",
    "        p_value_array_lapu_permu[i,j] = server_lapu.release_p_value_permutation(n_permutation)      \n",
    "        \n",
    "            # bitflip\n",
    "        data_y_bitflip, data_z_bitflip = LDPclient.release_bitflip()\n",
    "        server_bitflip.load_private_data(data_y_bitflip, data_z_bitflip)      \n",
    "        p_value_array_bitflip[i,j]  = server_bitflip.release_p_value()\n",
    "        p_value_array_bitflip_permu[i,j]  = server_bitflip.release_p_value_permutation(n_permutation)\n",
    "        \n",
    "        # genrr\n",
    "        data_y_genrr, data_z_genrr = LDPclient.release_genrr()\n",
    "        server_genrr.load_private_data(data_y_genrr, data_z_genrr)\n",
    "        p_value_array_genrr[i,j]  = server_genrr.release_p_value()\n",
    "        #p_value_array_genrr_permu[i,j]  = server_genrr.release_p_value_permutation(n_permutation)\n",
    "\n",
    " \n",
    "elapsed = time.time() - t\n",
    "elapsed"
   ]
  },
  {
   "cell_type": "code",
   "execution_count": 30,
   "metadata": {},
   "outputs": [
    {
     "name": "stdout",
     "output_type": "stream",
     "text": [
      "small chi-square distance\n",
      "p1 = tensor([0.4375, 0.3125, 0.1875, 0.0625])\n",
      "p2 = tensor([0.0625, 0.1875, 0.3125, 0.4375])\n",
      "privacy level = 0.8\n",
      "sample size = 200,\n",
      "power estimate =\n",
      "    0.22(lapu, permu)\n",
      "    0.0(bitflip, chi)\n",
      "    0.06(bitflip, permu)\n",
      "    0.0(genrr, chi)\n",
      "\n",
      "sample size = 600,\n",
      "power estimate =\n",
      "    0.56(lapu, permu)\n",
      "    0.01(bitflip, chi)\n",
      "    0.21(bitflip, permu)\n",
      "    0.0(genrr, chi)\n",
      "\n",
      "sample size = 1000,\n",
      "power estimate =\n",
      "    0.81(lapu, permu)\n",
      "    0.0(bitflip, chi)\n",
      "    0.32(bitflip, permu)\n",
      "    0.0(genrr, chi)\n",
      "\n",
      "sample size = 1400,\n",
      "power estimate =\n",
      "    0.93(lapu, permu)\n",
      "    0.0(bitflip, chi)\n",
      "    0.67(bitflip, permu)\n",
      "    0.0(genrr, chi)\n",
      "\n",
      "sample size = 1600,\n",
      "power estimate =\n",
      "    0.94(lapu, permu)\n",
      "    0.0(bitflip, chi)\n",
      "    0.67(bitflip, permu)\n",
      "    0.0(genrr, chi)\n",
      "\n",
      "sample size = 10000,\n",
      "power estimate =\n",
      "    1.0(lapu, permu)\n",
      "    1.0(bitflip, chi)\n",
      "    1.0(bitflip, permu)\n",
      "    0.0(genrr, chi)\n",
      "\n"
     ]
    }
   ],
   "source": [
    "print(\n",
    "    f\"small chi-square distance\\n\"+\n",
    "        f\"p1 = {p1}\\n\"+\n",
    "        f\"p2 = {p2}\\n\"+\n",
    "        f\"privacy level = {privacy_level}\"\n",
    ")\n",
    "\n",
    "for j, sample_size in enumerate(sample_size_list):\n",
    "    print(\n",
    "        f\"sample size = {sample_size},\\n\"+\n",
    "        f\"power estimate =\\n\"+\n",
    "        f\"    {sum( p_value_array_lapu_permu[:,j]<0.05)/n_test }(lapu, permu)\\n\"+\n",
    "        f\"    {sum( p_value_array_bitflip[:,j]<0.05)/n_test }(bitflip, chi)\\n\"+\n",
    "        f\"    {sum( p_value_array_bitflip_permu[:,j]<0.05)/n_test }(bitflip, permu)\\n\"+\n",
    "        f\"    {sum( p_value_array_genrr[:,j]<0.05)/n_test }(genrr, chi)\\n\"\n",
    "    )"
   ]
  },
  {
   "cell_type": "code",
   "execution_count": 20,
   "metadata": {},
   "outputs": [
    {
     "name": "stdout",
     "output_type": "stream",
     "text": [
      "bitflip two-sample test, chi-square threshold\n",
      "sample size = 200, power estimate= 0.001\n",
      "\n",
      "sample size = 400, power estimate= 0.013\n",
      "\n",
      "sample size = 600, power estimate= 0.07\n",
      "\n",
      "sample size = 800, power estimate= 0.302\n",
      "\n",
      "sample size = 1000, power estimate= 0.695\n",
      "\n",
      "sample size = 1200, power estimate= 0.924\n",
      "\n",
      "sample size = 1400, power estimate= 0.99\n",
      "\n",
      "sample size = 1600, power estimate= 1.0\n",
      "\n"
     ]
    }
   ],
   "source": []
  },
  {
   "cell_type": "code",
   "execution_count": 18,
   "metadata": {},
   "outputs": [
    {
     "data": {
      "text/plain": [
       "0.0"
      ]
     },
     "execution_count": 18,
     "metadata": {},
     "output_type": "execute_result"
    }
   ],
   "source": [
    "t = time.time()\n",
    "privacy_level = 0.8\n",
    "LDPclient = client(device, privacy_level)\n",
    "server_bitflip = server_twosample_bitflip(device, privacy_level)\n",
    "server_genrr = server_twosample_genrr(device, privacy_level)\n",
    "server_lapu = server_twosample_U(device, privacy_level)\n",
    "\n",
    "p_value_array_bitflip = np.zeros([n_test, len(sample_size_list)])\n",
    "p_value_array_bitflip_permu = np.zeros([n_test, len(sample_size_list)])\n",
    "p_value_array_genrr = np.zeros([n_test, len(sample_size_list)])\n",
    "p_value_array_genrr_permu = np.zeros([n_test, len(sample_size_list)])\n",
    "p_value_array_lapu_permu = np.zeros([n_test, len(sample_size_list)])\n",
    "\n",
    "for i in range(n_test):\n",
    "    for j, sample_size in enumerate(sample_size_list):\n",
    "        data_y = data_gen.generate_multinomial_data(p1, sample_size)\n",
    "        data_z = data_gen.generate_multinomial_data(p2, sample_size)\n",
    "        LDPclient.load_data_disc(data_y, data_z, alphabet_size)\n",
    "        \n",
    "       # lapu\n",
    "        data_y_lapu, data_z_lapu = LDPclient.release_lapu()\n",
    "        server_lapu.load_private_data(data_y_lapu, data_z_lapu)\n",
    "        p_value_array_lapu_permu[i,j] = server_lapu.release_p_value_permutation(n_permutation)      \n",
    "        \n",
    "        # bitflip\n",
    "        data_y_bitflip, data_z_bitflip = LDPclient.release_bitflip()\n",
    "        server_bitflip.load_private_data(data_y_bitflip, data_z_bitflip)      \n",
    "        p_value_array_bitflip[i,j]  = server_bitflip.release_p_value()\n",
    "        p_value_array_bitflip_permu[i,j]  = server_bitflip.release_p_value_permutation(n_permutation)\n",
    "        \n",
    "        # genrr\n",
    "        data_y_genrr, data_z_genrr = LDPclient.release_genrr()\n",
    "        server_genrr.load_private_data(data_y_genrr, data_z_genrr)\n",
    "        p_value_array_genrr[i,j]  = server_genrr.release_p_value()\n",
    "        #p_value_array_genrr_permu[i,j]  = server_genrr.release_p_value_permutation(n_permutation)\n",
    "\n",
    " \n",
    "elapsed = time.time() - t\n",
    "elapsed"
   ]
  },
  {
   "cell_type": "markdown",
   "metadata": {},
   "source": [
    "# Type I error"
   ]
  },
  {
   "cell_type": "code",
   "execution_count": 59,
   "metadata": {},
   "outputs": [
    {
     "name": "stdout",
     "output_type": "stream",
     "text": [
      "tensor([0.7565, 0.1337, 0.0485, 0.0236, 0.0135, 0.0086, 0.0058, 0.0042, 0.0031,\n",
      "        0.0024], device='cuda:0')\n"
     ]
    }
   ],
   "source": [
    "beta = 2.5\n",
    "data_gen = data_generator(device)\n",
    "p_null = data_gen._generate_power_law_p(alphabet_size, beta)\n",
    "print(p_null)\n",
    "\n",
    "n_test = 100\n",
    "n_permutation = 99\n",
    "significance_level = 0.05\n",
    "alphabet_size = 10\n",
    "\n",
    "sample_size_list = [20000]"
   ]
  },
  {
   "cell_type": "code",
   "execution_count": null,
   "metadata": {},
   "outputs": [],
   "source": [
    "t = time.time()\n",
    "privacy_level = 0.8\n",
    "LDPclient = client(device, privacy_level)\n",
    "server_bitflip = server_twosample_bitflip(device, privacy_level)\n",
    "server_genrr = server_twosample_genrr(device, privacy_level)\n",
    "server_lapu = server_twosample_U(device, privacy_level)\n",
    "\n",
    "p_value_array_bitflip = np.zeros([n_test, len(sample_size_list)])\n",
    "p_value_array_bitflip_permu = np.zeros([n_test, len(sample_size_list)])\n",
    "p_value_array_genrr = np.zeros([n_test, len(sample_size_list)])\n",
    "p_value_array_genrr_permu = np.zeros([n_test, len(sample_size_list)])\n",
    "p_value_array_lapu_permu = np.zeros([n_test, len(sample_size_list)])\n",
    "\n",
    "for i in range(n_test):\n",
    "    print(f\"{i}th test\")\n",
    "    for j, sample_size in enumerate(sample_size_list):\n",
    "        data_y = data_gen.generate_multinomial_data(p_null, sample_size)\n",
    "        data_z = data_gen.generate_multinomial_data(p_null, sample_size)\n",
    "        LDPclient.load_data_disc(data_y, data_z, alphabet_size)\n",
    "        \n",
    "        # lapu\n",
    "        data_y_lapu, data_z_lapu = LDPclient.release_lapu()\n",
    "        server_lapu.load_private_data(data_y_lapu, data_z_lapu)\n",
    "        p_value_array_lapu_permu[i,j] = server_lapu.release_p_value_permutation(n_permutation)      \n",
    "        \n",
    "        # bitflip\n",
    "        data_y_bitflip, data_z_bitflip = LDPclient.release_bitflip()\n",
    "        server_bitflip.load_private_data(data_y_bitflip, data_z_bitflip)      \n",
    "        p_value_array_bitflip[i,j]  = server_bitflip.release_p_value()\n",
    "        p_value_array_bitflip_permu[i,j]  = server_bitflip.release_p_value_permutation(n_permutation)\n",
    "        \n",
    "        # genrr\n",
    "        data_y_genrr, data_z_genrr, alphabet_size = LDPclient.release_genrr()\n",
    "        server_genrr.load_private_data(data_y_genrr, data_z_genrr, alphabet_size)\n",
    "        p_value_array_genrr[i,j]  = server_genrr.release_p_value()\n",
    "        p_value_array_genrr_permu[i,j]  = server_genrr.release_p_value_permutation(n_permutation)\n",
    "\n",
    " \n",
    "elapsed = time.time() - t\n",
    "print(elapsed)"
   ]
  },
  {
   "cell_type": "code",
   "execution_count": 64,
   "metadata": {},
   "outputs": [
    {
     "name": "stderr",
     "output_type": "stream",
     "text": [
      "<ipython-input-27-43f600c2d3ea>:166: UserWarning: To copy construct from a tensor, it is recommended to use sourceTensor.clone().detach() or sourceTensor.clone().detach().requires_grad_(True), rather than torch.tensor(sourceTensor).\n",
      "  p_tensor = torch.tensor(p).to(self.cuda_device)\n",
      "<ipython-input-27-43f600c2d3ea>:172: UserWarning: To copy construct from a tensor, it is recommended to use sourceTensor.clone().detach() or sourceTensor.clone().detach().requires_grad_(True), rather than torch.tensor(sourceTensor).\n",
      "  p_tensor = torch.tensor(p).to(self.cuda_device)\n"
     ]
    },
    {
     "name": "stdout",
     "output_type": "stream",
     "text": [
      "0.53587717\n",
      "0.5369541\n",
      "0.5296032\n",
      "0.518474\n"
     ]
    },
    {
     "data": {
      "text/plain": [
       "(array([  1.,   1.,   0.,   0.,   1.,   0.,   0.,   0.,   0.,   0.,   1.,\n",
       "          1.,   0.,   1.,   1.,   2.,   1.,   0.,   3.,   1.,   2.,   3.,\n",
       "          3.,   3.,   2.,   5.,   3.,   4.,   2.,   4.,   5.,  10.,   6.,\n",
       "          8.,  14.,  15.,  19.,   9.,  21.,  21.,  34.,  44.,  40.,  43.,\n",
       "         54.,  68.,  86., 138., 156., 164.]),\n",
       " array([0.22651842, 0.24198787, 0.25745732, 0.27292677, 0.28839622,\n",
       "        0.30386568, 0.31933513, 0.33480458, 0.35027403, 0.36574348,\n",
       "        0.38121294, 0.39668239, 0.41215184, 0.42762129, 0.44309074,\n",
       "        0.4585602 , 0.47402965, 0.4894991 , 0.50496855, 0.520438  ,\n",
       "        0.53590745, 0.55137691, 0.56684636, 0.58231581, 0.59778526,\n",
       "        0.61325471, 0.62872417, 0.64419362, 0.65966307, 0.67513252,\n",
       "        0.69060197, 0.70607143, 0.72154088, 0.73701033, 0.75247978,\n",
       "        0.76794923, 0.78341868, 0.79888814, 0.81435759, 0.82982704,\n",
       "        0.84529649, 0.86076594, 0.8762354 , 0.89170485, 0.9071743 ,\n",
       "        0.92264375, 0.9381132 , 0.95358266, 0.96905211, 0.98452156,\n",
       "        0.99999101]),\n",
       " <BarContainer object of 50 artists>)"
      ]
     },
     "execution_count": 64,
     "metadata": {},
     "output_type": "execute_result"
    },
    {
     "data": {
      "image/png": "[encoded data removed]",
      "text/plain": [
       "<Figure size 432x288 with 4 Axes>"
      ]
     },
     "metadata": {
      "needs_background": "light"
     },
     "output_type": "display_data"
    }
   ],
   "source": [
    "print(\n",
    "   # f\"small chi-square distance\\n\"+\n",
    "        f\"p1 = {p1}\\n\"+\n",
    "        f\"p2 = {p2}\\n\"+\n",
    "        f\"privacy level = {privacy_level}\"\n",
    ")\n",
    "for j, sample_size in enumerate(sample_size_list):\n",
    "    print(\n",
    "        f\"sample size = {sample_size},\\n\"+\n",
    "        f\"power estimate =\\n\"+\n",
    "        f\"    {sum( p_value_array_lapu_permu[:,j]<0.05)/n_test }(lapu, permu)\\n\"+\n",
    "        f\"    {sum( p_value_array_bitflip[:,j]<0.05)/n_test }(bitflip, chi)\\n\"+\n",
    "        f\"    {sum( p_value_array_bitflip_permu[:,j]<0.05)/n_test }(bitflip, permu)\\n\"+\n",
    "        f\"    {sum( p_value_array_genrr[:,j]<0.05)/n_test }(genrr, chi)\\n\" +\n",
    "        f\"    {sum( p_value_array_genrr_permu[:,j]<0.05)/n_test }(genrr, permu)\\n\"\n",
    "    )"
   ]
  },
  {
   "cell_type": "markdown",
   "metadata": {},
   "source": [
    "# privacy level = 4"
   ]
  },
  {
   "cell_type": "code",
   "execution_count": 63,
   "metadata": {},
   "outputs": [
    {
     "name": "stderr",
     "output_type": "stream",
     "text": [
      "<ipython-input-27-43f600c2d3ea>:166: UserWarning: To copy construct from a tensor, it is recommended to use sourceTensor.clone().detach() or sourceTensor.clone().detach().requires_grad_(True), rather than torch.tensor(sourceTensor).\n",
      "  p_tensor = torch.tensor(p).to(self.cuda_device)\n",
      "<ipython-input-27-43f600c2d3ea>:172: UserWarning: To copy construct from a tensor, it is recommended to use sourceTensor.clone().detach() or sourceTensor.clone().detach().requires_grad_(True), rather than torch.tensor(sourceTensor).\n",
      "  p_tensor = torch.tensor(p).to(self.cuda_device)\n"
     ]
    },
    {
     "name": "stdout",
     "output_type": "stream",
     "text": [
      "0.10911968\n",
      "0.11399892\n",
      "0.1152359\n",
      "0.107417814\n"
     ]
    },
    {
     "data": {
      "text/plain": [
       "(array([  2.,   1.,   1.,   0.,   1.,   2.,   0.,   1.,   0.,   3.,   1.,\n",
       "          2.,   1.,   2.,   1.,   2.,   3.,   0.,   4.,   2.,   2.,   1.,\n",
       "          1.,   2.,   2.,   4.,   7.,   8.,   6.,  12.,   7.,   2.,   4.,\n",
       "          9.,   7.,  15.,  12.,  19.,  15.,  17.,  12.,  21.,  19.,  36.,\n",
       "         35.,  63.,  57.,  53.,  90., 433.]),\n",
       " array([0.82051461, 0.82410432, 0.82769403, 0.83128374, 0.83487344,\n",
       "        0.83846315, 0.84205286, 0.84564257, 0.84923228, 0.85282198,\n",
       "        0.85641169, 0.8600014 , 0.86359111, 0.86718081, 0.87077052,\n",
       "        0.87436023, 0.87794994, 0.88153965, 0.88512935, 0.88871906,\n",
       "        0.89230877, 0.89589848, 0.89948818, 0.90307789, 0.9066676 ,\n",
       "        0.91025731, 0.91384701, 0.91743672, 0.92102643, 0.92461614,\n",
       "        0.92820585, 0.93179555, 0.93538526, 0.93897497, 0.94256468,\n",
       "        0.94615438, 0.94974409, 0.9533338 , 0.95692351, 0.96051322,\n",
       "        0.96410292, 0.96769263, 0.97128234, 0.97487205, 0.97846175,\n",
       "        0.98205146, 0.98564117, 0.98923088, 0.99282058, 0.99641029,\n",
       "        1.        ]),\n",
       " <BarContainer object of 50 artists>)"
      ]
     },
     "execution_count": 63,
     "metadata": {},
     "output_type": "execute_result"
    },
    {
     "data": {
      "image/png": "[encoded data removed]",
      "text/plain": [
       "<Figure size 432x288 with 4 Axes>"
      ]
     },
     "metadata": {
      "needs_background": "light"
     },
     "output_type": "display_data"
    }
   ],
   "source": [
    "t = time.time()\n",
    "\n",
    "server_now = server_twosample_projection(device)\n",
    "data_gen = data_generator(device)\n",
    "alphabet_size = 4\n",
    "beta = 2.5\n",
    "n_test = 1000\n",
    "significance_level = 0.05\n",
    "privacy_level = 4\n",
    "sample_size_list = [100, 1000, 10000, 1000000]\n",
    "test_result = torch.zeros(n_test).to(device)\n",
    "test_statistic = torch.zeros(n_test, len(sample_size_list)).to(device)\n",
    "\n",
    "p_null = data_gen._generate_power_law_p(alphabet_size, beta)\n",
    "for i in range(n_test):\n",
    "    for j, sample_size in enumerate(sample_size_list):\n",
    "        data_y = data_gen.generate_nearly_unif(alphabet_size, beta, sample_size = sample_size)\n",
    "        data_z = data_gen.generate_nearly_unif(alphabet_size, beta, sample_size = sample_size)\n",
    "        LDPclient = client(device)\n",
    "        LDPclient.load_data_disc(data_y, data_z, alphabet_size)\n",
    "    \n",
    "        data_y_priv, data_z_priv = LDPclient.release_bitflip(privacy_level)\n",
    "        #test_statistic[i]  = server_now._calculate_statistic(data_y_priv, data_z_priv)\n",
    "        test_statistic[i,j]  = server_now._calculate_statistic_gof(data_y_priv, p_null, privacy_level)\n",
    "  \n",
    "elapsed = time.time() - t\n",
    "elapsed\n",
    "\n",
    "\n",
    "test_statistic_100 = test_statistic[:,0].cpu().numpy().flatten()\n",
    "test_statistic_1000 = test_statistic[:,1].cpu().numpy().flatten()\n",
    "test_statistic_10000 = test_statistic[:,2].cpu().numpy().flatten()\n",
    "test_statistic_1000000 = test_statistic[:,3].cpu().numpy().flatten()\n",
    "\n",
    "\n",
    "print(test_statistic_100.mean())\n",
    "print(test_statistic_1000.mean())\n",
    "print(test_statistic_10000.mean())\n",
    "print(test_statistic_1000000.mean())\n",
    "\n",
    "chisq_dist = chi2(alphabet_size-1)\n",
    "\n",
    "\n",
    "fig, axs = plt.subplots(2,2)\n",
    "axs[0,0].hist(chisq_dist.sf(test_statistic_100), bins =50)\n",
    "axs[0,1].hist(chisq_dist.sf(test_statistic_1000), bins =50)\n",
    "axs[1,0].hist(chisq_dist.sf(test_statistic_10000), bins =50)\n",
    "axs[1,1].hist(chisq_dist.sf(test_statistic_1000000), bins =50)"
   ]
  },
  {
   "cell_type": "markdown",
   "metadata": {},
   "source": [
    "# privacy level = 8"
   ]
  },
  {
   "cell_type": "code",
   "execution_count": 60,
   "metadata": {},
   "outputs": [
    {
     "name": "stderr",
     "output_type": "stream",
     "text": [
      "<ipython-input-27-43f600c2d3ea>:166: UserWarning: To copy construct from a tensor, it is recommended to use sourceTensor.clone().detach() or sourceTensor.clone().detach().requires_grad_(True), rather than torch.tensor(sourceTensor).\n",
      "  p_tensor = torch.tensor(p).to(self.cuda_device)\n",
      "<ipython-input-27-43f600c2d3ea>:172: UserWarning: To copy construct from a tensor, it is recommended to use sourceTensor.clone().detach() or sourceTensor.clone().detach().requires_grad_(True), rather than torch.tensor(sourceTensor).\n",
      "  p_tensor = torch.tensor(p).to(self.cuda_device)\n"
     ]
    },
    {
     "name": "stdout",
     "output_type": "stream",
     "text": [
      "0.6544658\n",
      "0.62547386\n",
      "0.57424915\n",
      "0.64513266\n"
     ]
    },
    {
     "data": {
      "text/plain": [
       "(array([  1.,   1.,   1.,   3.,   2.,   0.,   0.,   0.,   2.,   1.,   5.,\n",
       "          1.,   1.,   0.,   1.,   4.,   3.,   4.,   2.,   4.,   5.,   1.,\n",
       "          8.,   5.,   7.,   4.,   5.,   4.,   6.,  10.,  12.,   9.,  14.,\n",
       "          8.,  11.,  19.,  15.,  16.,  27.,  30.,  19.,  37.,  30.,  45.,\n",
       "         42.,  54.,  85.,  77., 117., 242.]),\n",
       " array([0.16075167, 0.17753664, 0.1943216 , 0.21110657, 0.22789154,\n",
       "        0.2446765 , 0.26146147, 0.27824644, 0.2950314 , 0.31181637,\n",
       "        0.32860134, 0.3453863 , 0.36217127, 0.37895624, 0.3957412 ,\n",
       "        0.41252617, 0.42931114, 0.4460961 , 0.46288107, 0.47966604,\n",
       "        0.496451  , 0.51323597, 0.53002094, 0.5468059 , 0.56359087,\n",
       "        0.58037584, 0.5971608 , 0.61394577, 0.63073073, 0.6475157 ,\n",
       "        0.66430067, 0.68108563, 0.6978706 , 0.71465557, 0.73144053,\n",
       "        0.7482255 , 0.76501047, 0.78179543, 0.7985804 , 0.81536537,\n",
       "        0.83215033, 0.8489353 , 0.86572027, 0.88250523, 0.8992902 ,\n",
       "        0.91607517, 0.93286013, 0.9496451 , 0.96643007, 0.98321503,\n",
       "        1.        ]),\n",
       " <BarContainer object of 50 artists>)"
      ]
     },
     "execution_count": 60,
     "metadata": {},
     "output_type": "execute_result"
    },
    {
     "data": {
      "image/png": "[encoded data removed]",
      "text/plain": [
       "<Figure size 432x288 with 4 Axes>"
      ]
     },
     "metadata": {
      "needs_background": "light"
     },
     "output_type": "display_data"
    }
   ],
   "source": [
    "t = time.time()\n",
    "\n",
    "server_now = server_twosample_projection(device)\n",
    "data_gen = data_generator(device)\n",
    "alphabet_size = 4\n",
    "beta = 2.5\n",
    "n_test = 1000\n",
    "significance_level = 0.05\n",
    "privacy_level = 8\n",
    "sample_size_list = [100, 1000, 10000, 1000000]\n",
    "test_result = torch.zeros(n_test).to(device)\n",
    "test_statistic = torch.zeros(n_test, len(sample_size_list)).to(device)\n",
    "\n",
    "p_null = data_gen._generate_power_law_p(alphabet_size, beta)\n",
    "for i in range(n_test):\n",
    "    for j, sample_size in enumerate(sample_size_list):\n",
    "        data_y = data_gen.generate_nearly_unif(alphabet_size, beta, sample_size = sample_size)\n",
    "        data_z = data_gen.generate_nearly_unif(alphabet_size, beta, sample_size = sample_size)\n",
    "        LDPclient = client(device)\n",
    "        LDPclient.load_data_disc(data_y, data_z, alphabet_size)\n",
    "    \n",
    "        data_y_priv, data_z_priv = LDPclient.release_bitflip(privacy_level)\n",
    "        #test_statistic[i]  = server_now._calculate_statistic(data_y_priv, data_z_priv)\n",
    "        test_statistic[i,j]  = server_now._calculate_statistic_gof(data_y_priv, p_null, privacy_level)\n",
    "  \n",
    "elapsed = time.time() - t\n",
    "elapsed\n",
    "\n",
    "\n",
    "test_statistic_100 = test_statistic[:,0].cpu().numpy().flatten()\n",
    "test_statistic_1000 = test_statistic[:,1].cpu().numpy().flatten()\n",
    "test_statistic_10000 = test_statistic[:,2].cpu().numpy().flatten()\n",
    "test_statistic_1000000 = test_statistic[:,3].cpu().numpy().flatten()\n",
    "\n",
    "\n",
    "print(test_statistic_100.mean())\n",
    "print(test_statistic_1000.mean())\n",
    "print(test_statistic_10000.mean())\n",
    "print(test_statistic_1000000.mean())\n",
    "\n",
    "chisq_dist = chi2(alphabet_size-1)\n",
    "\n",
    "\n",
    "fig, axs = plt.subplots(2,2)\n",
    "axs[0,0].hist(chisq_dist.sf(test_statistic_100), bins =50)\n",
    "axs[0,1].hist(chisq_dist.sf(test_statistic_1000), bins =50)\n",
    "axs[1,0].hist(chisq_dist.sf(test_statistic_10000), bins =50)\n",
    "axs[1,1].hist(chisq_dist.sf(test_statistic_1000000), bins =50)"
   ]
  },
  {
   "cell_type": "markdown",
   "metadata": {},
   "source": [
    "# privacy level = 12"
   ]
  },
  {
   "cell_type": "code",
   "execution_count": 57,
   "metadata": {},
   "outputs": [
    {
     "name": "stderr",
     "output_type": "stream",
     "text": [
      "<ipython-input-27-43f600c2d3ea>:166: UserWarning: To copy construct from a tensor, it is recommended to use sourceTensor.clone().detach() or sourceTensor.clone().detach().requires_grad_(True), rather than torch.tensor(sourceTensor).\n",
      "  p_tensor = torch.tensor(p).to(self.cuda_device)\n",
      "<ipython-input-27-43f600c2d3ea>:172: UserWarning: To copy construct from a tensor, it is recommended to use sourceTensor.clone().detach() or sourceTensor.clone().detach().requires_grad_(True), rather than torch.tensor(sourceTensor).\n",
      "  p_tensor = torch.tensor(p).to(self.cuda_device)\n"
     ]
    },
    {
     "name": "stdout",
     "output_type": "stream",
     "text": [
      "4.2564874\n",
      "3.9883702\n",
      "4.1403894\n",
      "3.882773\n"
     ]
    },
    {
     "data": {
      "text/plain": [
       "(array([94., 33., 20., 28., 23., 20., 19., 14., 21., 11., 16., 18., 12.,\n",
       "        16., 15.,  6., 15., 16., 16., 13., 12., 15., 13., 12., 13., 14.,\n",
       "        12., 13., 19., 17., 19., 17., 12., 17., 17., 15., 14., 25., 28.,\n",
       "        23., 12., 19., 16., 17., 16., 23., 20., 23., 35., 66.]),\n",
       " array([2.71218658e-08, 2.00000266e-02, 4.00000260e-02, 6.00000255e-02,\n",
       "        8.00000250e-02, 1.00000024e-01, 1.20000024e-01, 1.40000023e-01,\n",
       "        1.60000023e-01, 1.80000022e-01, 2.00000022e-01, 2.20000021e-01,\n",
       "        2.40000021e-01, 2.60000020e-01, 2.80000020e-01, 3.00000019e-01,\n",
       "        3.20000018e-01, 3.40000018e-01, 3.60000017e-01, 3.80000017e-01,\n",
       "        4.00000016e-01, 4.20000016e-01, 4.40000015e-01, 4.60000015e-01,\n",
       "        4.80000014e-01, 5.00000014e-01, 5.20000013e-01, 5.40000012e-01,\n",
       "        5.60000012e-01, 5.80000011e-01, 6.00000011e-01, 6.20000010e-01,\n",
       "        6.40000010e-01, 6.60000009e-01, 6.80000009e-01, 7.00000008e-01,\n",
       "        7.20000008e-01, 7.40000007e-01, 7.60000007e-01, 7.80000006e-01,\n",
       "        8.00000005e-01, 8.20000005e-01, 8.40000004e-01, 8.60000004e-01,\n",
       "        8.80000003e-01, 9.00000003e-01, 9.20000002e-01, 9.40000002e-01,\n",
       "        9.60000001e-01, 9.80000001e-01, 1.00000000e+00]),\n",
       " <BarContainer object of 50 artists>)"
      ]
     },
     "execution_count": 57,
     "metadata": {},
     "output_type": "execute_result"
    },
    {
     "data": {
      "image/png": "[encoded data removed]",
      "text/plain": [
       "<Figure size 432x288 with 4 Axes>"
      ]
     },
     "metadata": {
      "needs_background": "light"
     },
     "output_type": "display_data"
    }
   ],
   "source": [
    "t = time.time()\n",
    "\n",
    "server_now = server_twosample_projection(device)\n",
    "data_gen = data_generator(device)\n",
    "alphabet_size = 4\n",
    "beta = 2.5\n",
    "n_test = 1000\n",
    "significance_level = 0.05\n",
    "privacy_level = 12\n",
    "sample_size_list = [100, 1000, 10000, 1000000]\n",
    "test_result = torch.zeros(n_test).to(device)\n",
    "test_statistic = torch.zeros(n_test, len(sample_size_list)).to(device)\n",
    "\n",
    "p_null = data_gen._generate_power_law_p(alphabet_size, beta)\n",
    "for i in range(n_test):\n",
    "    for j, sample_size in enumerate(sample_size_list):\n",
    "        data_y = data_gen.generate_nearly_unif(alphabet_size, beta, sample_size = sample_size)\n",
    "        data_z = data_gen.generate_nearly_unif(alphabet_size, beta, sample_size = sample_size)\n",
    "        LDPclient = client(device)\n",
    "        LDPclient.load_data_disc(data_y, data_z, alphabet_size)\n",
    "    \n",
    "        data_y_priv, data_z_priv = LDPclient.release_bitflip(privacy_level)\n",
    "        #test_statistic[i]  = server_now._calculate_statistic(data_y_priv, data_z_priv)\n",
    "        test_statistic[i,j]  = server_now._calculate_statistic_gof(data_y_priv, p_null, privacy_level)\n",
    "  \n",
    "elapsed = time.time() - t\n",
    "elapsed\n",
    "\n",
    "\n",
    "test_statistic_100 = test_statistic[:,0].cpu().numpy().flatten()\n",
    "test_statistic_1000 = test_statistic[:,1].cpu().numpy().flatten()\n",
    "test_statistic_10000 = test_statistic[:,2].cpu().numpy().flatten()\n",
    "test_statistic_1000000 = test_statistic[:,3].cpu().numpy().flatten()\n",
    "\n",
    "\n",
    "print(test_statistic_100.mean())\n",
    "print(test_statistic_1000.mean())\n",
    "print(test_statistic_10000.mean())\n",
    "print(test_statistic_1000000.mean())\n",
    "\n",
    "chisq_dist = chi2(alphabet_size-1)\n",
    "\n",
    "\n",
    "fig, axs = plt.subplots(2,2)\n",
    "axs[0,0].hist(chisq_dist.sf(test_statistic_100), bins =50)\n",
    "axs[0,1].hist(chisq_dist.sf(test_statistic_1000), bins =50)\n",
    "axs[1,0].hist(chisq_dist.sf(test_statistic_10000), bins =50)\n",
    "axs[1,1].hist(chisq_dist.sf(test_statistic_1000000), bins =50)"
   ]
  },
  {
   "cell_type": "code",
   "execution_count": 27,
   "metadata": {},
   "outputs": [],
   "source": [
    "from abc import ABCMeta, abstractmethod\n",
    "from client import client\n",
    "import utils\n",
    "import torch\n",
    "from scipy.stats import chi2\n",
    "import numpy\n",
    "\n",
    "class server(client):\n",
    "    def release_p_value(self, data_y, data_z, n_permutation):\n",
    "        return(self._permutation_test(data_y, data_z, n_permutation))\n",
    "\n",
    "    def _permutation_test(self, data_y, data_z, n_permutation):\n",
    "        n_1 = utils.get_sample_size(data_y)\n",
    "        n_2 = utils.get_sample_size(data_z)\n",
    "        n = n_1 + n_2\n",
    "        tst_data_combined = torch.vstack((data_y, data_z))\n",
    "       \n",
    "        u_stat_original = self._calculate_statistic(data_y, data_z) #original statistic\n",
    "        #print(f\"original u-statistic:{u_stat_original}\")\n",
    "        \n",
    "        #permutation procedure\n",
    "        u_stat_permuted = torch.empty(n_permutation).to(self.cuda_device)\n",
    "        \n",
    "        for i in range(n_permutation):\n",
    "            permutation = torch.randperm(n)\n",
    "            perm_stat_now = self._calculate_statistic(\n",
    "                tst_data_combined[permutation][:n_1,:],\n",
    "                tst_data_combined[permutation][n_1:,:]\n",
    "            ).to(self.cuda_device)\n",
    "            u_stat_permuted[i] = perm_stat_now\n",
    "\n",
    "        #print(u_stat_permuted)      \n",
    "        p_value_proxy = (1 +\n",
    "                         torch.sum(\n",
    "                             torch.gt(input = u_stat_permuted, other = u_stat_original)\n",
    "                         )\n",
    "                        ) / (n_permutation + 1)\n",
    "      \n",
    "        return(p_value_proxy)\n",
    "    \n",
    "\n",
    "    \n",
    "class server_twosample_U(server):    \n",
    "    def _calculate_statistic(self, data_y, data_z):\n",
    "        n_1 = torch.tensor(utils.get_sample_size(data_y))\n",
    "        n_2 = torch.tensor(utils.get_sample_size(data_z))\n",
    "    \n",
    "        y_row_sum = torch.sum(data_y, axis = 0)\n",
    "        z_row_sum = torch.sum(data_z, axis = 0)\n",
    "\n",
    "\n",
    "        one_Phi_one = torch.inner(y_row_sum, y_row_sum)\n",
    "        one_Psi_one = torch.inner(z_row_sum, z_row_sum)\n",
    "\n",
    "        tr_Phi = torch.sum(torch.square(data_y))\n",
    "        tr_Psi = torch.sum(torch.square(data_z))\n",
    "\n",
    "        one_Phi_tilde_one = one_Phi_one - tr_Phi\n",
    "        one_Psi_tilde_one = one_Psi_one - tr_Psi\n",
    "\n",
    "\n",
    "        # y only part. log calculation in case of large n1\n",
    "        sign_y = torch.sign(one_Phi_tilde_one)\n",
    "        abs_u_y = torch.exp(torch.log(torch.abs(one_Phi_tilde_one)) - torch.log(n_1) - torch.log(n_1 - 1) )\n",
    "        u_y = sign_y * abs_u_y\n",
    "\n",
    "\n",
    "        # z only part. log calculation in case of large n2\n",
    "        sign_z = torch.sign(one_Psi_tilde_one)\n",
    "\n",
    "        abs_u_z = torch.exp(torch.log(torch.abs(one_Psi_tilde_one)) - torch.log(n_2) - torch.log(n_2 - 1) )\n",
    "        u_z = sign_z * abs_u_z\n",
    "\n",
    "        # cross part\n",
    "        cross = torch.inner(y_row_sum, z_row_sum)\n",
    "        sign_cross = torch.sign(cross)\n",
    "        abs_cross = torch.exp(torch.log(torch.abs(cross)) +torch.log(torch.tensor(2))- torch.log(n_1) - torch.log(n_2) )\n",
    "        u_cross = sign_cross * abs_cross\n",
    "\n",
    "        return(u_y + u_z - u_cross)\n",
    "    \n",
    "class server_twosample_chi(server):\n",
    "    def release_p_value(self, data_y, data_z, alphabet_size):\n",
    "        if (self.not_multinomial(data_y)) or (self.not_multinomial(data_z)):\n",
    "            raise Exception(\"only accepts multinomial data (torch.int64 or torch.long)\")\n",
    "        else:\n",
    "            n_1 = torch.tensor(utils.get_sample_size(data_y))\n",
    "            n_2 = torch.tensor(utils.get_sample_size(data_z))\n",
    "            Y_count = data_y.bincount(minlength=alphabet_size)\n",
    "\n",
    "            Z_count = data_z.bincount(minlength=alphabet_size)\n",
    "    \n",
    "      \n",
    "            total_count = Y_count + Z_count\n",
    "            \n",
    "            total_count_nonzero = total_count[total_count>0]\n",
    "            Y_count_nonzero = Y_count[total_count>0]\n",
    "            Z_count_nonzero = Z_count[total_count>0]\n",
    "            \n",
    "            T_chi = torch.sub(Y_count_nonzero.mul(n_1), Z_count_nonzero.mul(n_2)).square().divide(\n",
    "                total_count_nonzero.mul(n_1).mul(n_2)\n",
    "            ).sum()\n",
    "\n",
    "            chisq_dist = chi2(alphabet_size-1)\n",
    "            p_value = chisq_dist.sf(T_chi.cpu().numpy().item())\n",
    "            return(p_value)\n",
    "        \n",
    "    def not_multinomial(self, data):\n",
    "        if data.dtype != torch.int64:\n",
    "            return(True)\n",
    "        elif data.dtype != torch.long:\n",
    "            return(True)\n",
    "        else:\n",
    "            return(False)\n",
    "\n",
    "class server_twosample_projection(server):\n",
    "    #def release_p_value(self, data_y, data_z):\n",
    "\n",
    "    def _calculate_statistic(self, data_y, data_z):\n",
    "        n_1 = torch.tensor(utils.get_sample_size(data_y))\n",
    "        n_2 = torch.tensor(utils.get_sample_size(data_z))\n",
    "        alphabet_size_1 = utils.get_dimension(data_y)\n",
    "        alphabet_size_2 = utils.get_dimension(data_z)\n",
    "        if n_1 != n_2:\n",
    "            raise Exception(\"sample size from each group must be the same)\")\n",
    "        elif alphabet_size_1 != alphabet_size_2:\n",
    "            raise Exception(\"Alphabet sizes of each group must be the same)\")\n",
    "        else: \n",
    "            #prelim\n",
    "            n = n_1.to(self.cuda_device)\n",
    "            alphabet_size = alphabet_size_1\n",
    "            one_projector = torch.eye(alphabet_size).sub(torch.ones(torch.Size([alphabet_size,alphabet_size]))).to(self.cuda_device)\n",
    "            mean_diff = data_y.mean(axis=0).sub(data_z.mean(axis=0)).view([alphabet_size,1])\n",
    "            cov_sum = torch.cov(data_y.T).add(torch.cov(data_z.T))\n",
    "            if self.cuda_device.type == \"cpu\":\n",
    "                cov_sum_inv = torch.tensor(numpy.linalg.inv(one_projector.numpy()))\n",
    "            else:\n",
    "                cov_sum_inv = cov_sum.inverse()\n",
    "            print(cov_sum_inv)\n",
    "            #\n",
    "            test_statistic = mean_diff.T.matmul(one_projector).matmul(cov_sum_inv).matmul(one_projector).matmul(mean_diff).mul(n)\n",
    "            return(test_statistic)\n",
    "    def _calculate_bitflip_statistic(self, mean_1, mean_2, cov_sum, alphabet_size, n):\n",
    "        one_projector = torch.eye(alphabet_size).sub(torch.ones(torch.Size([alphabet_size,alphabet_size]))).div(alphabet_size).to(self.cuda_device)\n",
    "        mean_diff = mean_1.sub(mean_2)\n",
    "        if self.cuda_device.type== \"cpu\":\n",
    "            cov_sum_inv = torch.tensor(numpy.linalg.inv(one_projector.numpy()))\n",
    "        else:\n",
    "            cov_sum_inv = cov_sum.inverse()\n",
    "        test_statistic = mean_diff.T.matmul(one_projector).matmul(cov_sum_inv).matmul(one_projector).matmul(mean_diff).mul(n)\n",
    "        return(test_statistic)\n",
    "    \n",
    "    def _calculate_statistic_gof(self, data_y, p, privacy_level):\n",
    "        n = torch.tensor(utils.get_sample_size(data_y))\n",
    "        alphabet_size = utils.get_dimension(data_y)\n",
    "        p_tilde = self._calculate_p_tilde(p, privacy_level).view([alphabet_size,1])\n",
    "        sigma_p = self._calculate_simga_p(p, privacy_level)\n",
    "        y_mean = data_y.mean(axis=0).view([alphabet_size,1])\n",
    "        \n",
    "        test_statistic = self._calculate_bitflip_statistic(y_mean, p_tilde, sigma_p, alphabet_size, n)\n",
    "   \n",
    "\n",
    "        return(test_statistic)\n",
    "    \n",
    "    def _calculate_p_tilde(self, p, privacy_level):\n",
    "        p_tensor = torch.tensor(p).to(self.cuda_device)\n",
    "        e_alpha_half = torch.tensor(privacy_level).div(2).exp().to(self.cuda_device)\n",
    "        p_tilde = p_tensor.mul(e_alpha_half-1).add(1).div(e_alpha_half+1)\n",
    "        return(p_tilde)\n",
    "        \n",
    "    def _calculate_simga_p(self, p, privacy_level):\n",
    "        p_tensor = torch.tensor(p).to(self.cuda_device)\n",
    "        alphabet_size = p_tensor.size()[0]\n",
    "        p_tensor = p_tensor.view(alphabet_size,1)\n",
    "        original_sigma = torch.diag(p_tensor) - p_tensor.matmul(p_tensor.T)\n",
    "        \n",
    "        e_alpha_half = torch.tensor(privacy_level).div(2).exp().to(self.cuda_device)\n",
    "        alpha_epsilon_square = (e_alpha_half-1).div(e_alpha_half+1).square()\n",
    "        sigma_p = original_sigma.mul(alpha_epsilon_square)\n",
    "        sigma_p = sigma_p.add(\n",
    "            torch.eye(alphabet_size).to(self.cuda_device).mul(e_alpha_half).div(\n",
    "                e_alpha_half.add(1).square()\n",
    "            ))\n",
    "   \n",
    "        return(sigma_p)"
   ]
  },
  {
   "cell_type": "code",
   "execution_count": 14,
   "metadata": {},
   "outputs": [
    {
     "data": {
      "text/plain": [
       "6.8224053382873535"
      ]
     },
     "execution_count": 14,
     "metadata": {},
     "output_type": "execute_result"
    }
   ],
   "source": [
    "t = time.time()\n",
    "\n",
    "server_now = server_twosample_projection(device)\n",
    "data_gen = data_generator(device)\n",
    "alphabet_size = 4\n",
    "beta = 0\n",
    "privacy_level = 100\n",
    "n_test = 10000\n",
    "significance_level = 0.05\n",
    "sample_size = 1000\n",
    "test_result = torch.zeros(n_test).to(device)\n",
    "test_statistic = torch.zeros(n_test).to(device)\n",
    "for i in range(n_test):\n",
    "    data_y = data_gen.generate_nearly_unif(alphabet_size, beta, sample_size = sample_size)\n",
    "    #data_z = data_gen.generate_nearly_unif(alphabet_size, beta, sample_size = sample_size)\n",
    "    LDPclient = client(device)\n",
    "    LDPclient.load_data_disc(data_y, data_z, alphabet_size)\n",
    "    data_y_priv, data_z_priv = LDPclient.release_bitflip(privacy_level)\n",
    "    #test_result[i] = server_now.release_p_value(data_y_priv, data_z_priv, n_permutation)\n",
    "    test_statistic[i]  = server_now._calculate_statistic(data_y_priv, data_z_priv)\n",
    "    \n",
    "elapsed = time.time() - t\n",
    "elapsed"
   ]
  },
  {
   "cell_type": "code",
   "execution_count": null,
   "metadata": {},
   "outputs": [],
   "source": []
  },
  {
   "cell_type": "code",
   "execution_count": 17,
   "metadata": {},
   "outputs": [
    {
     "data": {
      "text/plain": [
       "4"
      ]
     },
     "execution_count": 17,
     "metadata": {},
     "output_type": "execute_result"
    }
   ],
   "source": [
    "alphabet_size"
   ]
  },
  {
   "cell_type": "code",
   "execution_count": 16,
   "metadata": {},
   "outputs": [
    {
     "data": {
      "text/plain": [
       "tensor([2.6860e-06, 2.7920e-06, 6.9000e-07,  ..., 1.3640e-06, 5.1800e-07,\n",
       "        6.0000e-07])"
      ]
     },
     "execution_count": 16,
     "metadata": {},
     "output_type": "execute_result"
    }
   ],
   "source": [
    "test_statistic"
   ]
  },
  {
   "cell_type": "code",
   "execution_count": 15,
   "metadata": {},
   "outputs": [
    {
     "data": {
      "text/plain": [
       "(array([265., 387., 425., 454., 552., 492., 469., 506., 445., 418., 462.,\n",
       "        362., 364., 340., 309., 284., 282., 246., 232., 189., 253., 185.,\n",
       "        183., 163., 162., 129., 109., 103., 105., 108., 101.,  74.,  77.,\n",
       "         73.,  61.,  49.,  66.,  43.,  48.,  45.,  38.,  33.,  26.,  28.,\n",
       "         22.,  21.,  17.,  21.,  25.,  13.,  16.,  10.,   6.,  11.,  10.,\n",
       "          6.,   7.,   6.,   4.,   8.,   2.,   2.,   6.,   5.,   3.,   3.,\n",
       "          2.,   2.,   3.,   2.,   1.,   1.,   2.,   1.,   2.,   1.,   0.,\n",
       "          4.,   0.,   1.,   0.,   2.,   0.,   1.,   0.,   0.,   0.,   0.,\n",
       "          0.,   0.,   0.,   1.,   0.,   1.,   1.,   1.,   0.,   0.,   0.,\n",
       "          2.]),\n",
       " array([9.45236841e-03, 2.15395479e-01, 4.21338589e-01, 6.27281699e-01,\n",
       "        8.33224809e-01, 1.03916792e+00, 1.24511103e+00, 1.45105414e+00,\n",
       "        1.65699725e+00, 1.86294036e+00, 2.06888347e+00, 2.27482658e+00,\n",
       "        2.48076969e+00, 2.68671280e+00, 2.89265591e+00, 3.09859902e+00,\n",
       "        3.30454213e+00, 3.51048524e+00, 3.71642835e+00, 3.92237146e+00,\n",
       "        4.12831457e+00, 4.33425768e+00, 4.54020079e+00, 4.74614390e+00,\n",
       "        4.95208701e+00, 5.15803012e+00, 5.36397323e+00, 5.56991635e+00,\n",
       "        5.77585946e+00, 5.98180257e+00, 6.18774568e+00, 6.39368879e+00,\n",
       "        6.59963190e+00, 6.80557501e+00, 7.01151812e+00, 7.21746123e+00,\n",
       "        7.42340434e+00, 7.62934745e+00, 7.83529056e+00, 8.04123367e+00,\n",
       "        8.24717678e+00, 8.45311989e+00, 8.65906300e+00, 8.86500611e+00,\n",
       "        9.07094922e+00, 9.27689233e+00, 9.48283544e+00, 9.68877855e+00,\n",
       "        9.89472166e+00, 1.01006648e+01, 1.03066079e+01, 1.05125510e+01,\n",
       "        1.07184941e+01, 1.09244372e+01, 1.11303803e+01, 1.13363234e+01,\n",
       "        1.15422665e+01, 1.17482097e+01, 1.19541528e+01, 1.21600959e+01,\n",
       "        1.23660390e+01, 1.25719821e+01, 1.27779252e+01, 1.29838683e+01,\n",
       "        1.31898114e+01, 1.33957545e+01, 1.36016976e+01, 1.38076408e+01,\n",
       "        1.40135839e+01, 1.42195270e+01, 1.44254701e+01, 1.46314132e+01,\n",
       "        1.48373563e+01, 1.50432994e+01, 1.52492425e+01, 1.54551856e+01,\n",
       "        1.56611287e+01, 1.58670719e+01, 1.60730150e+01, 1.62789581e+01,\n",
       "        1.64849012e+01, 1.66908443e+01, 1.68967874e+01, 1.71027305e+01,\n",
       "        1.73086736e+01, 1.75146167e+01, 1.77205598e+01, 1.79265030e+01,\n",
       "        1.81324461e+01, 1.83383892e+01, 1.85443323e+01, 1.87502754e+01,\n",
       "        1.89562185e+01, 1.91621616e+01, 1.93681047e+01, 1.95740478e+01,\n",
       "        1.97799910e+01, 1.99859341e+01, 2.01918772e+01, 2.03978203e+01,\n",
       "        2.06037634e+01]),\n",
       " <BarContainer object of 100 artists>)"
      ]
     },
     "execution_count": 15,
     "metadata": {},
     "output_type": "execute_result"
    },
    {
     "data": {
      "image/png": "[encoded data removed]",
      "text/plain": [
       "<Figure size 640x480 with 2 Axes>"
      ]
     },
     "metadata": {},
     "output_type": "display_data"
    }
   ],
   "source": [
    "fig, axs = plt.subplots(1,2)\n",
    "axs[0].hist(test_statistic, bins =100)\n",
    "axs[1].hist(numpy.random.chisquare(alphabet_size-1, 10000), bins =100)"
   ]
  },
  {
   "cell_type": "code",
   "execution_count": 11,
   "metadata": {},
   "outputs": [
    {
     "data": {
      "text/plain": [
       "array([3.12911011, 4.46915588, 7.67141197, ..., 0.63649142, 2.48654217,\n",
       "       2.93446103])"
      ]
     },
     "execution_count": 11,
     "metadata": {},
     "output_type": "execute_result"
    }
   ],
   "source": [
    "numpy.random.chisquare(alphabet_size-1, 10000)"
   ]
  },
  {
   "cell_type": "code",
   "execution_count": 51,
   "metadata": {},
   "outputs": [
    {
     "data": {
      "text/plain": [
       "tensor([[ 0,  0,  0, -2,  0],\n",
       "        [ 0,  0,  0, -2,  0]])"
      ]
     },
     "execution_count": 51,
     "metadata": {},
     "output_type": "execute_result"
    }
   ],
   "source": [
    "a.eq(1).mul(-2)"
   ]
  },
  {
   "cell_type": "code",
   "execution_count": 3,
   "metadata": {},
   "outputs": [],
   "source": [
    "gen = data_generator(device)"
   ]
  },
  {
   "cell_type": "code",
   "execution_count": 51,
   "metadata": {},
   "outputs": [],
   "source": [
    "p, p_priv = gen._generate_power_law_p_private(10,2.1, 0.5)"
   ]
  },
  {
   "cell_type": "code",
   "execution_count": 52,
   "metadata": {},
   "outputs": [
    {
     "data": {
      "text/plain": [
       "<BarContainer object of 10 artists>"
      ]
     },
     "execution_count": 52,
     "metadata": {},
     "output_type": "execute_result"
    },
    {
     "data": {
      "image/png": "[encoded data removed]",
      "text/plain": [
       "<Figure size 432x288 with 1 Axes>"
      ]
     },
     "metadata": {
      "needs_background": "light"
     },
     "output_type": "display_data"
    }
   ],
   "source": [
    "plt.bar(range(10), p.cpu())"
   ]
  },
  {
   "cell_type": "code",
   "execution_count": 53,
   "metadata": {},
   "outputs": [
    {
     "data": {
      "text/plain": [
       "<BarContainer object of 10 artists>"
      ]
     },
     "execution_count": 53,
     "metadata": {},
     "output_type": "execute_result"
    },
    {
     "data": {
      "image/png": "[encoded data removed]",
      "text/plain": [
       "<Figure size 432x288 with 1 Axes>"
      ]
     },
     "metadata": {
      "needs_background": "light"
     },
     "output_type": "display_data"
    }
   ],
   "source": [
    "plt.bar(range(10), p_priv.cpu())"
   ]
  },
  {
   "cell_type": "code",
   "execution_count": null,
   "metadata": {},
   "outputs": [],
   "source": []
  },
  {
   "cell_type": "code",
   "execution_count": 2,
   "metadata": {},
   "outputs": [
    {
     "data": {
      "text/plain": [
       "16.566758632659912"
      ]
     },
     "execution_count": 2,
     "metadata": {},
     "output_type": "execute_result"
    }
   ],
   "source": [
    "t = time.time()\n",
    "\n",
    "server_now = server_twosample_U(device)\n",
    "data_gen = data_generator(device)\n",
    "alphabet_size = 1000\n",
    "beta = 0.5\n",
    "privacy_level = 1\n",
    "n_test = 1\n",
    "n_permutation = 99\n",
    "significance_level = 0.05\n",
    "sample_size = 100000\n",
    "test_result = torch.zeros(n_test).to(device)\n",
    "for i in range(n_test):\n",
    "    data_y = data_gen.generate_nearly_unif(alphabet_size, beta, sample_size = sample_size)\n",
    "    data_z = data_gen.generate_nearly_unif(alphabet_size, beta, sample_size = sample_size)\n",
    "    LDPclient = client(device)\n",
    "    LDPclient.load_data_disc(data_y, data_z, alphabet_size)\n",
    "    data_y_priv, data_z_priv = LDPclient.release_lapu(privacy_level)\n",
    "    test_result[i] = server_now.release_p_value(data_y_priv, data_z_priv, n_permutation)\n",
    "    \n",
    "    \n",
    "elapsed = time.time() - t\n",
    "elapsed"
   ]
  },
  {
   "cell_type": "code",
   "execution_count": 9,
   "metadata": {},
   "outputs": [
    {
     "data": {
      "text/plain": [
       "tensor(1621, device='cuda:0')"
      ]
     },
     "execution_count": 9,
     "metadata": {},
     "output_type": "execute_result"
    }
   ],
   "source": [
    "(data_y==0).sum()"
   ]
  },
  {
   "cell_type": "code",
   "execution_count": 15,
   "metadata": {},
   "outputs": [
    {
     "data": {
      "text/plain": [
       "tensor([0, 1, 1, 0, 1, 0])"
      ]
     },
     "execution_count": 15,
     "metadata": {},
     "output_type": "execute_result"
    }
   ],
   "source": [
    "torch.tensor([1,2,4]).bincount(minlength=6)"
   ]
  },
  {
   "cell_type": "markdown",
   "metadata": {},
   "source": [
    "# performance of genrr "
   ]
  },
  {
   "cell_type": "code",
   "execution_count": 25,
   "metadata": {},
   "outputs": [
    {
     "data": {
      "text/plain": [
       "131.28636121749878"
      ]
     },
     "execution_count": 25,
     "metadata": {},
     "output_type": "execute_result"
    }
   ],
   "source": [
    "t = time.time()\n",
    "\n",
    "server_now = server_twosample_chi(device)\n",
    "data_gen = data_generator(device)\n",
    "alphabet_size = 3000\n",
    "beta = 2.5\n",
    "privacy_level = 0.01\n",
    "n_test = 100\n",
    "sample_size = 10000\n",
    "test_result = torch.zeros(n_test).to(device)\n",
    "for i in range(n_test):\n",
    "    data_y = data_gen.generate_nearly_unif(alphabet_size, beta, sample_size = sample_size)\n",
    "    data_z = data_gen.generate_nearly_unif(alphabet_size, beta, sample_size = sample_size)\n",
    "    LDPclient = client(device)\n",
    "    LDPclient.load_data_disc(data_y, data_z, alphabet_size)\n",
    "    data_y_priv, data_z_priv = LDPclient.release_genrr(privacy_level)\n",
    "    test_result[i] = server_now.release_p_value(data_y_priv, data_z_priv, alphabet_size)\n",
    "    \n",
    "    \n",
    "elapsed = time.time() - t\n",
    "elapsed"
   ]
  },
  {
   "cell_type": "code",
   "execution_count": 24,
   "metadata": {},
   "outputs": [
    {
     "data": {
      "text/plain": [
       "tensor(0.7100, device='cuda:0')"
      ]
     },
     "execution_count": 24,
     "metadata": {},
     "output_type": "execute_result"
    }
   ],
   "source": [
    "(test_result < 0.7).sum()/n_test "
   ]
  },
  {
   "cell_type": "code",
   "execution_count": 6,
   "metadata": {},
   "outputs": [
    {
     "data": {
      "text/plain": [
       "torch.int64"
      ]
     },
     "execution_count": 6,
     "metadata": {},
     "output_type": "execute_result"
    }
   ],
   "source": [
    "data_y_priv.dtype"
   ]
  },
  {
   "cell_type": "markdown",
   "metadata": {},
   "source": [
    "# testing the discretizer"
   ]
  },
  {
   "cell_type": "code",
   "execution_count": 38,
   "metadata": {},
   "outputs": [],
   "source": [
    "p = torch.tensor([0.2, 0.6, 0.1, 0.1])\n",
    "n_sample = 10\n",
    "random_multinomial = torch.multinomial(p, n_sample, replacement=True).view(-1)\n",
    "\n",
    "\n",
    "\n",
    "LDPclient = client(device)\n",
    "LDPclient.load_data_disc(random_multinomial, random_multinomial, 4)\n"
   ]
  },
  {
   "cell_type": "markdown",
   "metadata": {},
   "source": [
    "# testing the lapu for discrete data"
   ]
  },
  {
   "cell_type": "code",
   "execution_count": 43,
   "metadata": {},
   "outputs": [
    {
     "data": {
      "text/plain": [
       "<matplotlib.image.AxesImage at 0x2a9c9f10640>"
      ]
     },
     "execution_count": 43,
     "metadata": {},
     "output_type": "execute_result"
    },
    {
     "data": {
      "image/png": "[encoded data removed]",
      "text/plain": [
       "<Figure size 640x480 with 4 Axes>"
      ]
     },
     "metadata": {},
     "output_type": "display_data"
    }
   ],
   "source": [
    "fig, axs = plt.subplots(2,2)\n",
    "axs[0,0].imshow(LDPclient.release_lapu(0.5)[1], cmap = 'hot', interpolation = 'nearest')\n",
    "axs[0,1].imshow(LDPclient.release_lapu(1)[1], cmap = 'hot', interpolation = 'nearest')\n",
    "axs[1,0].imshow(LDPclient.release_lapu(20)[1], cmap = 'hot', interpolation = 'nearest')\n",
    "axs[1,1].imshow(LDPclient.release_lapu(50)[1], cmap = 'hot', interpolation = 'nearest')"
   ]
  },
  {
   "cell_type": "code",
   "execution_count": 42,
   "metadata": {},
   "outputs": [
    {
     "data": {
      "text/plain": [
       "<matplotlib.image.AxesImage at 0x2a9c9d49610>"
      ]
     },
     "execution_count": 42,
     "metadata": {},
     "output_type": "execute_result"
    },
    {
     "data": {
      "image/png": "[encoded data removed]",
      "text/plain": [
       "<Figure size 640x480 with 4 Axes>"
      ]
     },
     "metadata": {},
     "output_type": "display_data"
    }
   ],
   "source": [
    "fig, axs = plt.subplots(2,2)\n",
    "axs[0,0].imshow(LDPclient.release_Disclapu(0.5)[1], cmap = 'hot', interpolation = 'nearest')\n",
    "axs[0,1].imshow(LDPclient.release_Disclapu(1)[1], cmap = 'hot', interpolation = 'nearest')\n",
    "axs[1,0].imshow(LDPclient.release_Disclapu(20)[1], cmap = 'hot', interpolation = 'nearest')\n",
    "axs[1,1].imshow(LDPclient.release_Disclapu(50)[1], cmap = 'hot', interpolation = 'nearest')"
   ]
  },
  {
   "cell_type": "code",
   "execution_count": 45,
   "metadata": {},
   "outputs": [
    {
     "name": "stderr",
     "output_type": "stream",
     "text": [
      "C:\\Users\\Jongmin\\AppData\\Local\\Temp\\ipykernel_13600\\1939938785.py:4: UserWarning: To copy construct from a tensor, it is recommended to use sourceTensor.clone().detach() or sourceTensor.clone().detach().requires_grad_(True), rather than torch.tensor(sourceTensor).\n",
      "  torch.tensor(LDPclient.release_genrr(0.5)[1]),\n",
      "C:\\Users\\Jongmin\\AppData\\Local\\Temp\\ipykernel_13600\\1939938785.py:12: UserWarning: To copy construct from a tensor, it is recommended to use sourceTensor.clone().detach() or sourceTensor.clone().detach().requires_grad_(True), rather than torch.tensor(sourceTensor).\n",
      "  torch.tensor(LDPclient.release_genrr(1)[1]),\n",
      "C:\\Users\\Jongmin\\AppData\\Local\\Temp\\ipykernel_13600\\1939938785.py:20: UserWarning: To copy construct from a tensor, it is recommended to use sourceTensor.clone().detach() or sourceTensor.clone().detach().requires_grad_(True), rather than torch.tensor(sourceTensor).\n",
      "  torch.tensor(LDPclient.release_genrr(20)[1]),\n",
      "C:\\Users\\Jongmin\\AppData\\Local\\Temp\\ipykernel_13600\\1939938785.py:28: UserWarning: To copy construct from a tensor, it is recommended to use sourceTensor.clone().detach() or sourceTensor.clone().detach().requires_grad_(True), rather than torch.tensor(sourceTensor).\n",
      "  torch.tensor(LDPclient.release_genrr(20)[1]),\n"
     ]
    },
    {
     "data": {
      "text/plain": [
       "<matplotlib.image.AxesImage at 0x2a9ca1cc3a0>"
      ]
     },
     "execution_count": 45,
     "metadata": {},
     "output_type": "execute_result"
    },
    {
     "data": {
      "image/png": "[encoded data removed]",
      "text/plain": [
       "<Figure size 640x480 with 4 Axes>"
      ]
     },
     "metadata": {},
     "output_type": "display_data"
    }
   ],
   "source": [
    "fig, axs = plt.subplots(2,2)\n",
    "axs[0,0].imshow(\n",
    "    torch.nn.functional.one_hot(\n",
    "        torch.tensor(LDPclient.release_genrr(0.5)[1]),\n",
    "        4\n",
    "        ),\n",
    "    cmap = 'hot', interpolation = 'nearest'\n",
    ")\n",
    "\n",
    "axs[0,1].imshow(\n",
    "    torch.nn.functional.one_hot(\n",
    "        torch.tensor(LDPclient.release_genrr(1)[1]),\n",
    "        4\n",
    "        ),\n",
    "    cmap = 'hot', interpolation = 'nearest'\n",
    ")\n",
    "\n",
    "axs[1,0].imshow(\n",
    "    torch.nn.functional.one_hot(\n",
    "        torch.tensor(LDPclient.release_genrr(20)[1]),\n",
    "        4\n",
    "        ),\n",
    "    cmap = 'hot', interpolation = 'nearest'\n",
    ")\n",
    "\n",
    "axs[1,1].imshow(\n",
    "    torch.nn.functional.one_hot(\n",
    "        torch.tensor(LDPclient.release_genrr(20)[1]),\n",
    "        4\n",
    "        ),\n",
    "    cmap = 'hot', interpolation = 'nearest'\n",
    ")"
   ]
  },
  {
   "cell_type": "code",
   "execution_count": 46,
   "metadata": {},
   "outputs": [
    {
     "name": "stderr",
     "output_type": "stream",
     "text": [
      "C:\\Users\\Jongmin\\AppData\\Local\\Temp\\ipykernel_13600\\4008632034.py:2: UserWarning: To copy construct from a tensor, it is recommended to use sourceTensor.clone().detach() or sourceTensor.clone().detach().requires_grad_(True), rather than torch.tensor(sourceTensor).\n",
      "  axs[0,0].imshow(torch.tensor(LDPclient.release_bitflip(0.5)[1]),cmap = 'hot', interpolation = 'nearest')\n",
      "C:\\Users\\Jongmin\\AppData\\Local\\Temp\\ipykernel_13600\\4008632034.py:3: UserWarning: To copy construct from a tensor, it is recommended to use sourceTensor.clone().detach() or sourceTensor.clone().detach().requires_grad_(True), rather than torch.tensor(sourceTensor).\n",
      "  axs[0,1].imshow(torch.tensor(LDPclient.release_bitflip(1)[1]),cmap = 'hot', interpolation = 'nearest')\n",
      "C:\\Users\\Jongmin\\AppData\\Local\\Temp\\ipykernel_13600\\4008632034.py:4: UserWarning: To copy construct from a tensor, it is recommended to use sourceTensor.clone().detach() or sourceTensor.clone().detach().requires_grad_(True), rather than torch.tensor(sourceTensor).\n",
      "  axs[1,0].imshow(torch.tensor(LDPclient.release_bitflip(10)[1]),cmap = 'hot', interpolation = 'nearest')\n",
      "C:\\Users\\Jongmin\\AppData\\Local\\Temp\\ipykernel_13600\\4008632034.py:5: UserWarning: To copy construct from a tensor, it is recommended to use sourceTensor.clone().detach() or sourceTensor.clone().detach().requires_grad_(True), rather than torch.tensor(sourceTensor).\n",
      "  axs[1,1].imshow(torch.tensor(LDPclient.release_bitflip(10)[1]),cmap = 'hot', interpolation = 'nearest')\n"
     ]
    },
    {
     "data": {
      "text/plain": [
       "<matplotlib.image.AxesImage at 0x2a9cb390fa0>"
      ]
     },
     "execution_count": 46,
     "metadata": {},
     "output_type": "execute_result"
    },
    {
     "data": {
      "image/png": "[encoded data removed]",
      "text/plain": [
       "<Figure size 640x480 with 4 Axes>"
      ]
     },
     "metadata": {},
     "output_type": "display_data"
    }
   ],
   "source": [
    "fig, axs = plt.subplots(2,2)\n",
    "axs[0,0].imshow(torch.tensor(LDPclient.release_bitflip(0.5)[1]),cmap = 'hot', interpolation = 'nearest')\n",
    "axs[0,1].imshow(torch.tensor(LDPclient.release_bitflip(1)[1]),cmap = 'hot', interpolation = 'nearest')\n",
    "axs[1,0].imshow(torch.tensor(LDPclient.release_bitflip(10)[1]),cmap = 'hot', interpolation = 'nearest')\n",
    "axs[1,1].imshow(torch.tensor(LDPclient.release_bitflip(10)[1]),cmap = 'hot', interpolation = 'nearest')\n"
   ]
  },
  {
   "cell_type": "code",
   "execution_count": 57,
   "metadata": {},
   "outputs": [],
   "source": [
    "a = (LDPclient.release_bitflip(0.5)[1]).mean(axis=0).view([4,1])\n",
    "device.type == \"cpu\""
   ]
  },
  {
   "cell_type": "code",
   "execution_count": 12,
   "metadata": {},
   "outputs": [
    {
     "data": {
      "text/plain": [
       "tensor([[ 0.1667, -0.1667, -0.1667],\n",
       "        [-0.1667,  0.1667, -0.1667],\n",
       "        [-0.1667, -0.1667,  0.1667]])"
      ]
     },
     "execution_count": 12,
     "metadata": {},
     "output_type": "execute_result"
    }
   ],
   "source": [
    "import numpy\n",
    "torch.tensor(numpy.linalg.inv(torch.eye(3) - torch.ones(torch.Size([3,3])).numpy())).div(3)"
   ]
  },
  {
   "cell_type": "code",
   "execution_count": 6,
   "metadata": {},
   "outputs": [
    {
     "ename": "RuntimeError",
     "evalue": "Calling torch.linalg.lu_factor on a CPU tensor requires compiling PyTorch with LAPACK. Please use PyTorch built with LAPACK support.",
     "output_type": "error",
     "traceback": [
      "\u001b[1;31m---------------------------------------------------------------------------\u001b[0m",
      "\u001b[1;31mRuntimeError\u001b[0m                              Traceback (most recent call last)",
      "\u001b[1;32mc:\\Users\\Jongmin\\Documents\\GitHub\\LDPUts\\playground.ipynb Cell 25\u001b[0m line \u001b[0;36m1\n\u001b[1;32m----> <a href='vscode-notebook-cell:/c%3A/Users/Jongmin/Documents/GitHub/LDPUts/playground.ipynb#X46sZmlsZQ%3D%3D?line=0'>1</a>\u001b[0m torch\u001b[39m.\u001b[39;49mones(torch\u001b[39m.\u001b[39;49mSize([\u001b[39m3\u001b[39;49m,\u001b[39m3\u001b[39;49m]))\u001b[39m.\u001b[39;49minverse()\n",
      "\u001b[1;31mRuntimeError\u001b[0m: Calling torch.linalg.lu_factor on a CPU tensor requires compiling PyTorch with LAPACK. Please use PyTorch built with LAPACK support."
     ]
    }
   ],
   "source": [
    "torch.ones(torch.Size([3,3])).inverse().div()"
   ]
  },
  {
   "cell_type": "code",
   "execution_count": null,
   "metadata": {},
   "outputs": [],
   "source": [
    "axs[0,1].imshow(torch.nn.functional.one_hot(torch.tensor(LDPclient.release_genrr(1), 16)), cmap = 'hot', interpolation = 'nearest')\n",
    "axs[1,0].imshow(torch.nn.functional.one_hot(torch.tensor(LDPclient.release_genrr(10), 16)), cmap = 'hot', interpolation = 'nearest')\n",
    "axs[1,1].imshow(torch.nn.functional.one_hot(torch.tensor(LDPclient.release_genrr(100), 16)), cmap = 'hot', interpolation = 'nearest')"
   ]
  },
  {
   "cell_type": "code",
   "execution_count": 9,
   "metadata": {},
   "outputs": [
    {
     "data": {
      "text/plain": [
       "<matplotlib.image.AxesImage at 0x1b93f22ee20>"
      ]
     },
     "execution_count": 9,
     "metadata": {},
     "output_type": "execute_result"
    },
    {
     "data": {
      "image/png": "[encoded data removed]",
      "text/plain": [
       "<Figure size 640x480 with 4 Axes>"
      ]
     },
     "metadata": {},
     "output_type": "display_data"
    }
   ],
   "source": [
    "fig, axs = plt.subplots(2,2)\n",
    "axs[0,0].imshow(LDPclient.release_Disclapu(0.5)[1], cmap = 'hot', interpolation = 'nearest')\n",
    "axs[0,1].imshow(LDPclient.release_Disclapu(1)[1], cmap = 'hot', interpolation = 'nearest')\n",
    "axs[1,0].imshow(LDPclient.release_Disclapu(10)[1], cmap = 'hot', interpolation = 'nearest')\n",
    "axs[1,1].imshow(LDPclient.release_Disclapu(100)[1], cmap = 'hot', interpolation = 'nearest')\n",
    "\n"
   ]
  }
 ],
 "metadata": {
  "kernelspec": {
   "display_name": "Python 3 (ipykernel)",
   "language": "python",
   "name": "python3"
  },
  "language_info": {
   "codemirror_mode": {
    "name": "ipython",
    "version": 3
   },
   "file_extension": ".py",
   "mimetype": "text/x-python",
   "name": "python",
   "nbconvert_exporter": "python",
   "pygments_lexer": "ipython3",
   "version": "3.8.16"
  }
 },
 "nbformat": 4,
 "nbformat_minor": 4
}
