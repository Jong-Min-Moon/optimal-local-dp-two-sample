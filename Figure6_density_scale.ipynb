{
 "cells": [
  {
   "cell_type": "markdown",
   "metadata": {},
   "source": [
    "### Import packages\n"
   ]
  },
  {
   "cell_type": "code",
   "execution_count": 1,
   "metadata": {},
   "outputs": [],
   "source": [
    "from privateAB.client import client\n",
    "import torch\n",
    "from privateAB.server import server_multinomial_bitflip, server_multinomial_genrr, server_ell2\n",
    "from privateAB.data_generator import data_generator\n",
    "import time\n",
    "import numpy as np\n",
    "from datetime import datetime"
   ]
  },
  {
   "cell_type": "markdown",
   "metadata": {},
   "source": [
    "### Change settings"
   ]
  },
  {
   "cell_type": "code",
   "execution_count": 2,
   "metadata": {},
   "outputs": [
    {
     "name": "stdout",
     "output_type": "stream",
     "text": [
      "12\n"
     ]
    }
   ],
   "source": [
    "d = 3                       # data dimension; choose from {3,4,5}\n",
    "n_bin = 4                   # fixed at 4 in the paper\n",
    "privacy_level = 1           # privacy level \\alpha: choose from {0.5, 1, 2}\n",
    "sample_size   = 3000        \n",
    "n_permutation = 999         # fixed at 999 in the paper\n",
    "priv_mech  = 'bitflip' #choose among 'bitflip', 'genrr', 'lapu', 'disclapu'\n",
    "statistic  = 'elltwo' #choose among 'chi', 'projchi', 'elltwo'. chi requires 1-dimensional multinomial data.\n",
    "n_test        = 11        \n",
    "test_start    = 1\n",
    "significance_level = 0.05\n",
    "device = torch.device('cuda' if torch.cuda.is_available() else 'cpu')\n",
    "print(torch.get_num_threads())\n",
    "###################################################################"
   ]
  },
  {
   "cell_type": "markdown",
   "metadata": {},
   "source": [
    "### Create data generator, client, and server instances"
   ]
  },
  {
   "cell_type": "code",
   "execution_count": 4,
   "metadata": {},
   "outputs": [],
   "source": [
    "data_gen = data_generator() #create data generator\n",
    "LDPclient = client() #create the client, which privatizes the data\n",
    "\n",
    "method_name = priv_mech + statistic\n",
    "\n",
    "server_private_vec = {\n",
    "    \"elltwo\":server_ell2(privacy_level),\n",
    "    \"chi\":server_multinomial_genrr(privacy_level),\n",
    "    \"projchi\":server_multinomial_bitflip(privacy_level)\n",
    "    }\n",
    "server_private = server_private_vec[statistic] #create the server, which conducts the test"
   ]
  },
  {
   "cell_type": "markdown",
   "metadata": {},
   "source": [
    "### Run the simulations #############################"
   ]
  },
  {
   "cell_type": "code",
   "execution_count": 5,
   "metadata": {},
   "outputs": [
    {
     "name": "stdout",
     "output_type": "stream",
     "text": [
      "bitflipelltwo, alpha=1, sample size=3000\n",
      "#########################################\n",
      "pval: [0.597] -- 1th test, time elapsed 2.0243866443634033 -- emperical power so far (from test_start): 0.0\n",
      "pval: [0.016] -- 2th test, time elapsed 2.0284969806671143 -- emperical power so far (from test_start): 0.5\n",
      "pval: [0.039] -- 3th test, time elapsed 2.0908684730529785 -- emperical power so far (from test_start): 0.6666666666666666\n",
      "pval: [0.85799998] -- 4th test, time elapsed 2.374216079711914 -- emperical power so far (from test_start): 0.5\n",
      "pval: [0.027] -- 5th test, time elapsed 2.1082265377044678 -- emperical power so far (from test_start): 0.6\n",
      "pval: [0.112] -- 6th test, time elapsed 2.2155683040618896 -- emperical power so far (from test_start): 0.5\n",
      "pval: [0.34299999] -- 7th test, time elapsed 2.2920312881469727 -- emperical power so far (from test_start): 0.42857142857142855\n",
      "pval: [0.009] -- 8th test, time elapsed 2.1830496788024902 -- emperical power so far (from test_start): 0.5\n",
      "pval: [0.085] -- 9th test, time elapsed 2.1930925846099854 -- emperical power so far (from test_start): 0.4444444444444444\n",
      "pval: [0.022] -- 10th test, time elapsed 2.135477304458618 -- emperical power so far (from test_start): 0.5\n",
      "pval: [0.48100001] -- 11th test, time elapsed 2.371016502380371 -- emperical power so far (from test_start): 0.45454545454545453\n"
     ]
    }
   ],
   "source": [
    "print(f\"{method_name}, alpha={privacy_level}, sample size={sample_size}\")\n",
    "print(\"#########################################\")\n",
    "p_value_vec = np.zeros([n_test, 1])\n",
    "statistic_vec = np.zeros([n_test, 1])\n",
    "t = time.time()\n",
    "\n",
    "for i in range(n_test):\n",
    "    test_num = i + test_start\n",
    "    t_start_i = time.time()\n",
    "    torch.manual_seed(test_num)\n",
    "    copula_mean = torch.zeros(d).to(device)\n",
    "\n",
    "    copula_sigma_1 = (0.5 * torch.ones(d,d) + 0.5 * torch.eye(d)).to(device)\n",
    "    copula_sigma_2 = copula_sigma_1.mul(5)\n",
    "\n",
    "    data_y_priv = LDPclient.release_private_conti(\n",
    "            priv_mech,\n",
    "            data_gen.generate_copula_gaussian_data(sample_size, copula_mean, copula_sigma_1),\n",
    "            privacy_level,\n",
    "            n_bin,\n",
    "            device\n",
    "        )\n",
    "\n",
    "    data_z_priv = LDPclient.release_private_conti(\n",
    "            priv_mech,\n",
    "            data_gen.generate_copula_gaussian_data(sample_size, copula_mean, copula_sigma_2),\n",
    "            privacy_level,\n",
    "            n_bin,\n",
    "            device\n",
    "        )\n",
    "\n",
    "    server_private.load_private_data_multinomial(\n",
    "        data_y_priv,\n",
    "        data_z_priv,\n",
    "        LDPclient.alphabet_size_binned,\n",
    "        device,\n",
    "        device\n",
    "    )\n",
    "    time_now = datetime.utcnow().strftime('%Y-%m-%d %H:%M:%S')\n",
    "\n",
    "    p_value_vec[i], statistic_vec[i] = server_private.release_p_value_permutation(n_permutation)\n",
    "    t_end_i = time.time() - t_start_i\n",
    "    print(f\"pval: {p_value_vec[i]} -- {test_num}th test, time elapsed {t_end_i} -- emperical power so far (from test_start): {(p_value_vec[0:(i+1)] < significance_level).mean()}\")"
   ]
  },
  {
   "cell_type": "markdown",
   "metadata": {},
   "source": [
    "\n",
    "\n",
    "\n",
    "\n",
    "\n",
    "\n"
   ]
  }
 ],
 "metadata": {
  "kernelspec": {
   "display_name": "LDPUtsEnvK40_windows",
   "language": "python",
   "name": "python3"
  },
  "language_info": {
   "codemirror_mode": {
    "name": "ipython",
    "version": 3
   },
   "file_extension": ".py",
   "mimetype": "text/x-python",
   "name": "python",
   "nbconvert_exporter": "python",
   "pygments_lexer": "ipython3",
   "version": "3.7.12"
  }
 },
 "nbformat": 4,
 "nbformat_minor": 2
}
