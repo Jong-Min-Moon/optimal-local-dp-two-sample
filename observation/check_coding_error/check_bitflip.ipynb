{
 "cells": [
  {
   "cell_type": "code",
   "execution_count": 2,
   "metadata": {},
   "outputs": [],
   "source": [
    "import torch\n",
    "import numpy as np\n",
    "import sys\n",
    "sys.path.insert(0, 'D:/GitHub/LDPUts')\n",
    "import sqlite3\n",
    "from datetime import datetime\n",
    "import pandas as pd\n",
    "from client import *\n",
    "\n",
    "from data_generator import data_generator\n",
    "data_gen = data_generator()"
   ]
  },
  {
   "cell_type": "code",
   "execution_count": 3,
   "metadata": {},
   "outputs": [
    {
     "name": "stdout",
     "output_type": "stream",
     "text": [
      "tensor([1])\n",
      "tensor([[0.3783, 0.6226, 0.3773, 0.3779]])\n",
      "tensor(0.6225)\n",
      "tensor(0.3775)\n"
     ]
    }
   ],
   "source": [
    "\n",
    "p1 = torch.tensor([1/4,1/4,1/4,1/4])\n",
    "sample_size = 1\n",
    "bitflip_result_cumul = torch.tensor([0,0,0,0])\n",
    "client_bitflip = client()\n",
    "a = data_gen.generate_multinomial_data(p1, sample_size);\n",
    "n= 500000\n",
    "for i in range(n):\n",
    "    torch.manual_seed(i)\n",
    "    bitflip_result_cumul = bitflip_result_cumul + client_bitflip.release_private(\n",
    "            'bitflip',\n",
    "            a,\n",
    "            4,\n",
    "            1,\n",
    "            'cpu'\n",
    "        )\n",
    "    \n",
    "\n",
    "print(a)\n",
    "print(bitflip_result_cumul/n)\n",
    "half = torch.exp(torch.tensor(1/2))\n",
    "factor = half/(half+1)\n",
    "print(factor)\n",
    "print(1-factor)"
   ]
  }
 ],
 "metadata": {
  "kernelspec": {
   "display_name": "LDPUTS",
   "language": "python",
   "name": "python3"
  },
  "language_info": {
   "codemirror_mode": {
    "name": "ipython",
    "version": 3
   },
   "file_extension": ".py",
   "mimetype": "text/x-python",
   "name": "python",
   "nbconvert_exporter": "python",
   "pygments_lexer": "ipython3",
   "version": "3.8.16"
  }
 },
 "nbformat": 4,
 "nbformat_minor": 2
}
