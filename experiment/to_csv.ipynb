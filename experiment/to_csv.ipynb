{
 "cells": [
  {
   "cell_type": "code",
   "execution_count": 7,
   "metadata": {},
   "outputs": [],
   "source": [
    "import numpy as np\n",
    "import sys\n",
    "sys.path.insert(0, 'D:/GitHub/LDPUts')\n",
    "import sqlite3\n",
    "from datetime import datetime\n",
    "import pandas as pd\n",
    "con = sqlite3.connect('LDP_minimax.db')\n",
    "cursor_db = con.cursor()\n",
    "from client import *\n"
   ]
  },
  {
   "cell_type": "code",
   "execution_count": 2,
   "metadata": {},
   "outputs": [
    {
     "name": "stdout",
     "output_type": "stream",
     "text": [
      "[0.5 1.  2. ]\n",
      "[0.5 1.  2. ]\n",
      "[2.  1.  0.5]\n"
     ]
    }
   ],
   "source": [
    "cursor_db = con.cursor()\n",
    "for k in [4,40,1000]:\n",
    "\tcursor = con.execute(\n",
    "\t\t\"\"\"\n",
    "        SELECT DISTINCT\n",
    "\t        priv_lev\n",
    "        FROM ldp_disc_basic_comparison\n",
    "        WHERE dim = ?\n",
    "\t\t\"\"\",\n",
    "\t\t[k])\n",
    "\tpriv_lev_vec = cursor.fetchall()\n",
    "\tpriv_lev_vec_np = np.array(priv_lev_vec).flatten()\n",
    "\tprint(priv_lev_vec_np)\n",
    "\tfor priv_lev in priv_lev_vec_np:\n",
    "\t\tcursor = con.execute(\n",
    "\t\t\t\"\"\"\n",
    "\t\t\tSELECT\n",
    "\t\t\t\tavg(p_val<0.05) as power,\n",
    "\t\t\t\tmechanism||statistic as method,\n",
    "\t\t\t\tsample_size\n",
    "\t\t\tFROM ldp_disc_basic_comparison\n",
    "\t\t\tWHERE\n",
    "\t\t\t\tdim = ? and\n",
    "\t\t\t\tpriv_lev = ?\n",
    "\t\t\tGROUP BY statistic, mechanism, sample_size\n",
    "\t\t\t\"\"\",\n",
    "\t\t\t[k, priv_lev])\n",
    "\t\ttable = cursor.fetchall()\n",
    "\t\ttable_pd = pd.DataFrame(table)\n",
    "\t\ttable_pd.columns = [\"power\", \"method\", \"n\"]\n",
    "\t\ttable_pd = table_pd.pivot(index= \"n\", columns = \"method\", values = \"power\")\n",
    "\t\ttable_pd.to_csv(\"purturbunif_power_og_k\"+str(k)+ \"_priv\"+ str(int(10*priv_lev)) +\".csv\")\n",
    "\n"
   ]
  }
 ],
 "metadata": {
  "kernelspec": {
   "display_name": "LAPUts",
   "language": "python",
   "name": "python3"
  },
  "language_info": {
   "codemirror_mode": {
    "name": "ipython",
    "version": 3
   },
   "file_extension": ".py",
   "mimetype": "text/x-python",
   "name": "python",
   "nbconvert_exporter": "python",
   "pygments_lexer": "ipython3",
   "version": "3.8.16"
  }
 },
 "nbformat": 4,
 "nbformat_minor": 2
}
