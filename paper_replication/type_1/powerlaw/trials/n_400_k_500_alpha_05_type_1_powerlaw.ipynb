{
 "cells": [
  {
   "cell_type": "code",
   "execution_count": null,
   "metadata": {},
   "outputs": [],
   "source": [
    "import sys\n",
    "sys.path.insert(0, '/mnt/nas/users/mjm/LDPUts')\n",
    "\n",
    "from discretizer import discretizer\n",
    "from client import client\n",
    "import torch\n",
    "device = torch.device(\"cuda:0\" if torch.cuda.is_available() else \"cpu\")\n",
    "import matplotlib.pyplot as plt\n",
    "from server import server_ell2, server_multinomial_genrr, server_multinomial_bitflip\n",
    "from data_generator import data_generator\n",
    "from discretizer import discretizer\n",
    "import time\n",
    "import numpy as np\n",
    "from scipy.stats import chi2\n",
    "from utils import chi_sq_dist"
   ]
  },
  {
   "cell_type": "code",
   "execution_count": null,
   "metadata": {},
   "outputs": [],
   "source": [
    "n_test = 200\n",
    "n_permutation = 199\n",
    "significance_level = 0.05\n",
    "alphabet_size = 500\n",
    "privacy_level = 0.5\n",
    "###################\n",
    "sample_size = 400\n",
    "###################\n",
    "\n",
    "data_gen = data_generator(device)\n",
    "\n",
    "p = torch.arange(1,alphabet_size).reciprocal()\n",
    "p = p.divide(p.sum())\n",
    "\n",
    "print(p)\n",
    "plt.plot(p)"
   ]
  },
  {
   "cell_type": "code",
   "execution_count": null,
   "metadata": {},
   "outputs": [],
   "source": [
    "LDPclient = client(device, privacy_level)\n",
    "server_elltwo = server_ell2(device, privacy_level)\n",
    "server_genrr = server_multinomial_genrr(device, privacy_level)\n",
    "server_bitflip = server_multinomial_bitflip(device, privacy_level)\n",
    "\n",
    "p_value_array = np.zeros([n_test, 3])\n",
    "\n",
    "t = time.time()\n",
    "for i in range(n_test):\n",
    "    print(f\"{i+1}th test\")\n",
    "    torch.manual_seed(i)\n",
    "    data_y = data_gen.generate_multinomial_data(p, sample_size)\n",
    "    data_z = data_gen.generate_multinomial_data(p, sample_size)\n",
    "    \n",
    "    LDPclient.load_data_multinomial(data_y, data_z, alphabet_size)\n",
    "    data_list_lapu_y, data_list_lapu_z = LDPclient.release_lapu()\n",
    "    data_list_genrr_y, data_list_genrr_z = LDPclient.release_genrr()\n",
    "    data_list_bitflip_y, data_list_bitflip_z = LDPclient.release_bitflip()\n",
    "    \n",
    "    server_elltwo.load_private_data_multinomial(data_list_lapu_y, data_list_lapu_z, alphabet_size)\n",
    "    p_value_array[i,0] = server_elltwo.release_p_value_permutation(n_permutation)\n",
    " \n",
    "    server_genrr.load_private_data_multinomial(data_list_genrr_y, data_list_genrr_z, alphabet_size)\n",
    "    p_value_array[i,1] = server_genrr.release_p_value()\n",
    "     \n",
    "    server_bitflip.load_private_data_multinomial(data_list_bitflip_y, data_list_bitflip_z, alphabet_size)\n",
    "    p_value_array[i,2] = server_bitflip.release_p_value()\n",
    "elapsed = time.time() - t\n",
    "print(elapsed)"
   ]
  },
  {
   "cell_type": "code",
   "execution_count": null,
   "metadata": {},
   "outputs": [],
   "source": [
    "print(\n",
    "   # f\"small chi-square distance\\n\"+\n",
    "        f\"p = {p}\\n\"+\n",
    "        f\"privacy level = {privacy_level}\"\n",
    ")\n",
    "\n",
    "print(\n",
    "    f\"sample size = {sample_size},\\n\"+\n",
    "    f\"type I error estimate =\\n\"+\n",
    "    f\"    {sum( p_value_array[:,0]<0.05)/n_test }(lapu, ell2)\\n\"+\n",
    "    f\"    {sum( p_value_array[:,1]<0.05)/n_test }(genrr, chi-sq)\\n\"+\n",
    "    f\"    {sum( p_value_array[:,2]<0.05)/n_test }(bitflip, ch-sq-proj)\\n\"\n",
    ")\n",
    "with open('/mnt/nas/users/mjm/LDPUts/simul/type_1/hi_dim/power_law/n_400_k_200_alpha_05_type_1_powerlaw.npy', 'wb') as f:\n",
    "    np.save(f, p_value_array)"
   ]
  },
  {
   "cell_type": "code",
   "execution_count": null,
   "metadata": {},
   "outputs": [],
   "source": [
    "type_1_nominal = np.linspace(0,1,100)\n",
    "type_1_real_ell2 = np.zeros(100)\n",
    "type_1_real_genrr = np.zeros(100)\n",
    "type_1_real_bitflip = np.zeros(100)\n",
    "\n",
    "for i, level in enumerate(type_1_nominal):\n",
    "    type_1_real_ell2[i] = sum( p_value_array[:,0]<level)/n_test\n",
    "    type_1_real_genrr[i] = sum( p_value_array[:,1]<level)/n_test\n",
    "    type_1_real_bitflip[i] = sum( p_value_array[:,2]<level)/n_test"
   ]
  },
  {
   "cell_type": "code",
   "execution_count": null,
   "metadata": {},
   "outputs": [],
   "source": [
    "plt.plot(type_1_nominal, type_1_nominal)\n",
    "plt.plot(type_1_nominal, type_1_real_ell2)"
   ]
  },
  {
   "cell_type": "code",
   "execution_count": null,
   "metadata": {},
   "outputs": [],
   "source": [
    "plt.plot(type_1_nominal, type_1_nominal)\n",
    "plt.plot(type_1_nominal, type_1_real_genrr)"
   ]
  },
  {
   "cell_type": "code",
   "execution_count": null,
   "metadata": {},
   "outputs": [],
   "source": [
    "plt.plot(type_1_nominal, type_1_nominal)\n",
    "plt.plot(type_1_nominal, type_1_real_bitflip)"
   ]
  },
  {
   "cell_type": "code",
   "execution_count": null,
   "metadata": {},
   "outputs": [],
   "source": []
  }
 ],
 "metadata": {
  "kernelspec": {
   "display_name": "Python 3 (ipykernel)",
   "language": "python",
   "name": "python3"
  },
  "language_info": {
   "codemirror_mode": {
    "name": "ipython",
    "version": 3
   },
   "file_extension": ".py",
   "mimetype": "text/x-python",
   "name": "python",
   "nbconvert_exporter": "python",
   "pygments_lexer": "ipython3",
   "version": "3.8.16"
  }
 },
 "nbformat": 4,
 "nbformat_minor": 4
}
