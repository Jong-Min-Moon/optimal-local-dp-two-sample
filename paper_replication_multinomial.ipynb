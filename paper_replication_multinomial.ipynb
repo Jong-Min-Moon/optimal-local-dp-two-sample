{
 "cells": [
  {
   "cell_type": "markdown",
   "metadata": {},
   "source": [
    "### import packages"
   ]
  },
  {
   "cell_type": "code",
   "execution_count": 1,
   "metadata": {},
   "outputs": [],
   "source": [
    "from client import client\n",
    "import torch\n",
    "from server import server_multinomial_bitflip, server_multinomial_genrr, server_ell2\n",
    "from data_generator import data_generator\n",
    "import time\n",
    "import numpy as np\n",
    "from datetime import datetime"
   ]
  },
  {
   "cell_type": "markdown",
   "metadata": {},
   "source": [
    "### Change settings"
   ]
  },
  {
   "cell_type": "code",
   "execution_count": 2,
   "metadata": {},
   "outputs": [
    {
     "name": "stdout",
     "output_type": "stream",
     "text": [
      "12\n"
     ]
    }
   ],
   "source": [
    "param_dist    = 0.04        #perturbation magnitude from uniform distribution; choose from {0.04, 0.015, 0.002} \n",
    "d = 4                      # number of categories; choose from {4,40,400}\n",
    "privacy_level = 1           # privacy level \\alpha: choose from {0.5, 1, 2}\n",
    "sample_size   = 2000        \n",
    "n_permutation = 999         # fixed at 999 in the paper\n",
    "priv_mech  = 'genrr' #choose among 'bitflip', 'genrr', 'lapu', 'disclapu'\n",
    "statistic  = 'elltwo' #choose among 'chi', 'projchi', 'elltwo'. chi requires 1-dimensional multinomial data.\n",
    "n_test        = 12        \n",
    "test_start    = 1\n",
    "significance_level = 0.05\n",
    "device = torch.device('cuda' if torch.cuda.is_available() else 'cpu')\n",
    "print(torch.get_num_threads())"
   ]
  },
  {
   "cell_type": "markdown",
   "metadata": {},
   "source": [
    "### create data generator, client, and server instances"
   ]
  },
  {
   "cell_type": "code",
   "execution_count": 3,
   "metadata": {},
   "outputs": [],
   "source": [
    "data_gen = data_generator() #create data generator\n",
    "LDPclient = client() #create the client, which privatizes the data\n",
    "\n",
    "method_name = priv_mech + statistic\n",
    "\n",
    "server_private_vec = {\n",
    "    \"elltwo\":server_ell2(privacy_level),\n",
    "    \"chi\":server_multinomial_genrr(privacy_level),\n",
    "    \"projchi\":server_multinomial_bitflip(privacy_level)\n",
    "    }\n",
    "server_private = server_private_vec[statistic] #create the server, which conducts the test"
   ]
  },
  {
   "cell_type": "markdown",
   "metadata": {},
   "source": [
    "### run the simulations"
   ]
  },
  {
   "cell_type": "code",
   "execution_count": 4,
   "metadata": {},
   "outputs": [
    {
     "name": "stdout",
     "output_type": "stream",
     "text": [
      "genrrelltwo, alpha=1, sample size=2000\n",
      "#########################################\n",
      "pval: [0.001] -- 1th test, time elapsed 0.718834400177002 -- emperical power so far (from test_start): 1.0\n",
      "pval: [0.001] -- 2th test, time elapsed 0.6947104930877686 -- emperical power so far (from test_start): 1.0\n",
      "pval: [0.168] -- 3th test, time elapsed 0.6782546043395996 -- emperical power so far (from test_start): 0.6666666666666666\n",
      "pval: [0.033] -- 4th test, time elapsed 0.6701006889343262 -- emperical power so far (from test_start): 0.75\n",
      "pval: [0.104] -- 5th test, time elapsed 0.6642589569091797 -- emperical power so far (from test_start): 0.6\n",
      "pval: [0.008] -- 6th test, time elapsed 0.6133959293365479 -- emperical power so far (from test_start): 0.6666666666666666\n",
      "pval: [0.002] -- 7th test, time elapsed 0.6270456314086914 -- emperical power so far (from test_start): 0.7142857142857143\n",
      "pval: [0.07] -- 8th test, time elapsed 0.626823902130127 -- emperical power so far (from test_start): 0.625\n",
      "pval: [0.002] -- 9th test, time elapsed 0.6270341873168945 -- emperical power so far (from test_start): 0.6666666666666666\n",
      "pval: [0.07] -- 10th test, time elapsed 0.6665830612182617 -- emperical power so far (from test_start): 0.6\n",
      "pval: [0.038] -- 11th test, time elapsed 0.6411147117614746 -- emperical power so far (from test_start): 0.6363636363636364\n",
      "pval: [0.019] -- 12th test, time elapsed 0.6679058074951172 -- emperical power so far (from test_start): 0.6666666666666666\n"
     ]
    }
   ],
   "source": [
    "\n",
    "print(f\"{method_name}, alpha={privacy_level}, sample size={sample_size}\")\n",
    "print(\"#########################################\")\n",
    "p_value_vec = np.zeros([n_test, 1])\n",
    "statistic_vec = np.zeros([n_test, 1])\n",
    "t = time.time()\n",
    "\n",
    "for i in range(n_test):\n",
    "    test_num = i + test_start\n",
    "    t_start_i = time.time()\n",
    "    torch.manual_seed(test_num) #set the seed number for replicability\n",
    "    bump=param_dist\n",
    "    p = torch.ones(d).div(d)\n",
    "    p2 = p.add(\n",
    "        torch.remainder(\n",
    "        torch.tensor(range(d)),\n",
    "        2\n",
    "        ).add(-1/2).mul(2).mul(bump)\n",
    "    )\n",
    "    p1_idx = torch.cat( ( torch.arange(1, d), torch.tensor([0])), 0)\n",
    "    p1 = p2[p1_idx]\n",
    "\n",
    "\n",
    "    server_private.load_private_data_multinomial(\n",
    "        LDPclient.release_private(\n",
    "            priv_mech,\n",
    "            data_gen.generate_multinomial_data(p1, sample_size),\n",
    "            d,\n",
    "            privacy_level,\n",
    "            device\n",
    "        ),\n",
    "        LDPclient.release_private(\n",
    "            priv_mech,\n",
    "            data_gen.generate_multinomial_data(p2, sample_size),\n",
    "            d,\n",
    "            privacy_level,\n",
    "            device\n",
    "        ),\n",
    "    d,\n",
    "    device,\n",
    "    device\n",
    "    )\n",
    "\n",
    "    time_now = datetime.utcnow().strftime('%Y-%m-%d %H:%M:%S')\n",
    "\n",
    "    p_value_vec[i], statistic_vec[i] = server_private.release_p_value_permutation(n_permutation)\n",
    "    t_end_i = time.time() - t_start_i\n",
    "\n",
    "    print(f\"pval: {p_value_vec[i]} -- {test_num}th test, time elapsed {t_end_i} -- emperical power so far (from test_start): {(p_value_vec[0:(i+1)] < significance_level).mean()}\")\n",
    "\n"
   ]
  }
 ],
 "metadata": {
  "kernelspec": {
   "display_name": "LDPUtsEnvK40_windows",
   "language": "python",
   "name": "python3"
  },
  "language_info": {
   "codemirror_mode": {
    "name": "ipython",
    "version": 3
   },
   "file_extension": ".py",
   "mimetype": "text/x-python",
   "name": "python",
   "nbconvert_exporter": "python",
   "pygments_lexer": "ipython3",
   "version": "3.7.12"
  }
 },
 "nbformat": 4,
 "nbformat_minor": 2
}
