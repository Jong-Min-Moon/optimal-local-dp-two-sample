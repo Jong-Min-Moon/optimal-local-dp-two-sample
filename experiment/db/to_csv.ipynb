{
 "cells": [
  {
   "cell_type": "code",
   "execution_count": 9,
   "metadata": {},
   "outputs": [],
   "source": [
    "import numpy as np\n",
    "import sqlite3\n",
    "from datetime import datetime\n",
    "import pandas as pd\n",
    "con = sqlite3.connect('/Users/jmmoon/Documents/GitHub/LDPUts/experiment/db/071424_LDPUts.db')\n"
   ]
  },
  {
   "cell_type": "markdown",
   "metadata": {},
   "source": [
    "## conti, location"
   ]
  },
  {
   "cell_type": "code",
   "execution_count": 2,
   "metadata": {},
   "outputs": [],
   "source": [
    "table_name=\"conti_location\"\n",
    "dim_vec = [3, 4, 5]\n",
    "priv_lev_vec = [0.5, 1, 2]\n",
    "sample_size_multplier = [1000,2700,8400]\n",
    "for i, d in enumerate(dim_vec):\n",
    "\tfor priv_lev in priv_lev_vec:\n",
    "\t\tcursor = con.execute(\n",
    "\t\t\tf\"\"\"\n",
    "\t\t\tSELECT\n",
    "\t\t\t\tavg(p_val<0.05) as power,\n",
    "\t\t\t\tmechanism||statistic as method,\n",
    "\t\t\t\tsample_size\n",
    "\t\t\tFROM {table_name}\n",
    "\t\t\tWHERE\n",
    "\t\t\t\tdim = ? and\n",
    "\t\t\t\tpriv_lev = ? and\n",
    "\t\t\t\tsample_size\n",
    "\t\t\tGROUP BY statistic, mechanism, sample_size\n",
    "\t\t\t\"\"\",\n",
    "\t\t\t[d, priv_lev])\n",
    "\t\ttable = cursor.fetchall()\n",
    "\t\ttable_pd = pd.DataFrame(table)\n",
    "\t\ttable_pd.columns = [\"power\", \"method\", \"n\"]\n",
    "\t\ttable_pd = table_pd[table_pd['n'] % sample_size_multplier[i] == 0]\n",
    "\t\ttable_pd = table_pd.pivot(index= \"n\", columns = \"method\", values = \"power\")\n",
    "\t\ttable_pd.to_csv(\"location_power_d\"+str(d)+ \"_priv\"+ str(int(10*priv_lev)) +\".csv\")\n",
    "\n"
   ]
  },
  {
   "cell_type": "markdown",
   "metadata": {},
   "source": [
    "## conti, scale"
   ]
  },
  {
   "cell_type": "code",
   "execution_count": 15,
   "metadata": {},
   "outputs": [],
   "source": [
    "table_name=\"conti_scale\"\n",
    "dim_vec = [3, 4, 5]\n",
    "priv_lev_vec = [0.5, 1, 2]\n",
    "sample_size_multplier = [3200,11600,40000]\n",
    "for i, d in enumerate(dim_vec):\n",
    "\tfor priv_lev in priv_lev_vec:\n",
    "\t\tcursor = con.execute(\n",
    "\t\t\tf\"\"\"\n",
    "\t\t\tSELECT\n",
    "\t\t\t\tavg(p_val<0.05) as power,\n",
    "\t\t\t\tmechanism||statistic as method,\n",
    "\t\t\t\tsample_size\n",
    "\t\t\tFROM {table_name}\n",
    "\t\t\tWHERE\n",
    "\t\t\t\tdim = ? and\n",
    "\t\t\t\tpriv_lev = ? and\n",
    "\t\t\t\tsample_size\n",
    "\t\t\tGROUP BY statistic, mechanism, sample_size\n",
    "\t\t\t\"\"\",\n",
    "\t\t\t[d, priv_lev])\n",
    "\t\ttable = cursor.fetchall()\n",
    "\t\ttable_pd = pd.DataFrame(table)\n",
    "\t\ttable_pd.columns = [\"power\", \"method\", \"n\"]\n",
    "\t\ttable_pd = table_pd[table_pd['n'] % sample_size_multplier[i] == 0]\n",
    "\t\ttable_pd = table_pd.pivot(index= \"n\", columns = \"method\", values = \"power\")\n",
    "\t\ttable_pd.to_csv(\"scale_power_d\"+str(d)+ \"_priv\"+ str(int(10*priv_lev)) +\".csv\")\n",
    "\n"
   ]
  },
  {
   "cell_type": "markdown",
   "metadata": {},
   "source": [
    "### k=400"
   ]
  },
  {
   "cell_type": "code",
   "execution_count": 10,
   "metadata": {},
   "outputs": [
    {
     "name": "stdout",
     "output_type": "stream",
     "text": [
      "[0.5 1.  2. ]\n",
      "[0.5 1.  2. ]\n",
      "[1.  2.  0.5]\n"
     ]
    }
   ],
   "source": [
    "con = sqlite3.connect('/Users/jmmoon/Documents/GitHub/LDPUts/experiment/db/071424_LDPUts.db')\n",
    "\n",
    "cursor_db = con.cursor()\n",
    "table_name = \"multinomial_perturbunif\"\n",
    "for k in [4, 40, 400]:\n",
    "\tcursor = con.execute(\n",
    "\t\tf\"\"\"\n",
    "        SELECT DISTINCT\n",
    "\t        priv_lev\n",
    "        FROM {table_name}\n",
    "        WHERE dim = ?\n",
    "\t\t\"\"\",\n",
    "\t\t[k])\n",
    "\tpriv_lev_vec = cursor.fetchall()\n",
    "\tpriv_lev_vec_np = np.array(priv_lev_vec).flatten()\n",
    "\tprint(priv_lev_vec_np)\n",
    "\tfor priv_lev in priv_lev_vec_np:\n",
    "\t\tcursor = con.execute(\n",
    "\t\t\tf\"\"\"\n",
    "\t\t\tSELECT\n",
    "\t\t\t\tavg(p_val<0.05) as power,\n",
    "\t\t\t\tmechanism||statistic as method,\n",
    "\t\t\t\tsample_size\n",
    "\t\t\tFROM {table_name}\n",
    "\t\t\tWHERE\n",
    "\t\t\t\tdim = ? and\n",
    "\t\t\t\tpriv_lev = ?\n",
    "\t\t\tGROUP BY statistic, mechanism, sample_size\n",
    "\t\t\t\"\"\",\n",
    "\t\t\t[k, priv_lev])\n",
    "\t\ttable = cursor.fetchall()\n",
    "\t\ttable_pd = pd.DataFrame(table)\n",
    "\t\ttable_pd.columns = [\"power\", \"method\", \"n\"]\n",
    "\t\ttable_pd = table_pd.pivot(index= \"n\", columns = \"method\", values = \"power\")\n",
    "\t\ttable_pd.to_csv(\"purturbunif_power_k\"+str(k)+ \"_priv\"+ str(int(10*priv_lev)) +\".csv\")\n",
    "\n"
   ]
  }
 ],
 "metadata": {
  "kernelspec": {
   "display_name": "LAPUts",
   "language": "python",
   "name": "python3"
  },
  "language_info": {
   "codemirror_mode": {
    "name": "ipython",
    "version": 3
   },
   "file_extension": ".py",
   "mimetype": "text/x-python",
   "name": "python",
   "nbconvert_exporter": "python",
   "pygments_lexer": "ipython3",
   "version": "3.12.3"
  }
 },
 "nbformat": 4,
 "nbformat_minor": 2
}
